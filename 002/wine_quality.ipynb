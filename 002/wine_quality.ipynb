{
 "cells": [
  {
   "cell_type": "markdown",
   "metadata": {},
   "source": [
    "# Conjunto de dados para classificação da qualidade de vinho"
   ]
  },
  {
   "cell_type": "markdown",
   "metadata": {},
   "source": [
    "## Definição do Problema"
   ]
  },
  {
   "cell_type": "markdown",
   "metadata": {},
   "source": [
    "O conjunto de dados da qualidade de vinho consiste na predição da qualidade de vinhos brancos sobre uma escala dada medições químicas de cada vinho.\n",
    "\n",
    "Trata-se de um problema de classificação multi-classe, mas pode ser também formulado como um problema de regressão. O número de observações para cada classe não é balanceado. Existem 4,898 observações com 11 variáveis de entrada e uma variável de saída. Os nomes das variáveis são as seguintes:\n",
    "\n",
    "1. Acidez fixa.\n",
    "2. Acidez volátil.\n",
    "3. Ácido cítrico.\n",
    "4. Resíduos de açúcar.\n",
    "5. Cloretos.\n",
    "6. Dióxido de enxofre livre.\n",
    "7. Dióxido de enxofre total.\n",
    "8. Densidade.\n",
    "9. pH.\n",
    "10. Sulfatos.\n",
    "11. Ácool.\n",
    "12. Qualidade (nota entre 0 e 10).\n",
    "\n",
    "Atributo de predição: Classe da qualidade de vinho"
   ]
  },
  {
   "cell_type": "markdown",
   "metadata": {},
   "source": [
    "### Importação das bibliotecas"
   ]
  },
  {
   "cell_type": "code",
   "execution_count": 2,
   "metadata": {},
   "outputs": [],
   "source": [
    "%matplotlib inline\n",
    "import pandas as pd\n",
    "import numpy as np\n",
    "from matplotlib import pyplot as plt\n",
    "from sklearn import model_selection\n",
    "from sklearn import linear_model\n",
    "from sklearn.neighbors import KNeighborsClassifier\n",
    "from sklearn import metrics\n",
    "from sklearn import ensemble\n",
    "from sklearn import tree\n",
    "from sklearn import svm\n",
    "from sklearn import neighbors\n",
    "from sklearn import naive_bayes"
   ]
  },
  {
   "cell_type": "markdown",
   "metadata": {},
   "source": [
    "### Carregando e definindo as colunas do dataset"
   ]
  },
  {
   "cell_type": "code",
   "execution_count": 13,
   "metadata": {},
   "outputs": [],
   "source": [
    "columns = [\"acidez fixa\",\"acidez volatil\",\"acido citrico\",\n",
    "           \"acucar residual\",\"cloretos\",\"dioxido de enxofre livre\",\n",
    "           \"dioxido de enxofre total\",\"densidade\",\"pH\",\"sulfatos\",\"alcool\",\"qualidade\"]\n",
    "data = pd.read_csv('wine-quality-dataset.csv',names=columns, sep=';')"
   ]
  },
  {
   "cell_type": "markdown",
   "metadata": {},
   "source": [
    "### Visualização e descrição dos dados"
   ]
  },
  {
   "cell_type": "code",
   "execution_count": 14,
   "metadata": {},
   "outputs": [
    {
     "data": {
      "text/html": [
       "<div>\n",
       "<style>\n",
       "    .dataframe thead tr:only-child th {\n",
       "        text-align: right;\n",
       "    }\n",
       "\n",
       "    .dataframe thead th {\n",
       "        text-align: left;\n",
       "    }\n",
       "\n",
       "    .dataframe tbody tr th {\n",
       "        vertical-align: top;\n",
       "    }\n",
       "</style>\n",
       "<table border=\"1\" class=\"dataframe\">\n",
       "  <thead>\n",
       "    <tr style=\"text-align: right;\">\n",
       "      <th></th>\n",
       "      <th>acidez fixa</th>\n",
       "      <th>acidez volatil</th>\n",
       "      <th>acido citrico</th>\n",
       "      <th>acucar residual</th>\n",
       "      <th>cloretos</th>\n",
       "      <th>dioxido de enxofre livre</th>\n",
       "      <th>dioxido de enxofre total</th>\n",
       "      <th>densidade</th>\n",
       "      <th>pH</th>\n",
       "      <th>sulfatos</th>\n",
       "      <th>alcool</th>\n",
       "      <th>qualidade</th>\n",
       "    </tr>\n",
       "  </thead>\n",
       "  <tbody>\n",
       "    <tr>\n",
       "      <th>0</th>\n",
       "      <td>7.0</td>\n",
       "      <td>0.27</td>\n",
       "      <td>0.36</td>\n",
       "      <td>20.7</td>\n",
       "      <td>0.045</td>\n",
       "      <td>45.0</td>\n",
       "      <td>170.0</td>\n",
       "      <td>1.0010</td>\n",
       "      <td>3.00</td>\n",
       "      <td>0.45</td>\n",
       "      <td>8.8</td>\n",
       "      <td>6</td>\n",
       "    </tr>\n",
       "    <tr>\n",
       "      <th>1</th>\n",
       "      <td>6.3</td>\n",
       "      <td>0.30</td>\n",
       "      <td>0.34</td>\n",
       "      <td>1.6</td>\n",
       "      <td>0.049</td>\n",
       "      <td>14.0</td>\n",
       "      <td>132.0</td>\n",
       "      <td>0.9940</td>\n",
       "      <td>3.30</td>\n",
       "      <td>0.49</td>\n",
       "      <td>9.5</td>\n",
       "      <td>6</td>\n",
       "    </tr>\n",
       "    <tr>\n",
       "      <th>2</th>\n",
       "      <td>8.1</td>\n",
       "      <td>0.28</td>\n",
       "      <td>0.40</td>\n",
       "      <td>6.9</td>\n",
       "      <td>0.050</td>\n",
       "      <td>30.0</td>\n",
       "      <td>97.0</td>\n",
       "      <td>0.9951</td>\n",
       "      <td>3.26</td>\n",
       "      <td>0.44</td>\n",
       "      <td>10.1</td>\n",
       "      <td>6</td>\n",
       "    </tr>\n",
       "    <tr>\n",
       "      <th>3</th>\n",
       "      <td>7.2</td>\n",
       "      <td>0.23</td>\n",
       "      <td>0.32</td>\n",
       "      <td>8.5</td>\n",
       "      <td>0.058</td>\n",
       "      <td>47.0</td>\n",
       "      <td>186.0</td>\n",
       "      <td>0.9956</td>\n",
       "      <td>3.19</td>\n",
       "      <td>0.40</td>\n",
       "      <td>9.9</td>\n",
       "      <td>6</td>\n",
       "    </tr>\n",
       "    <tr>\n",
       "      <th>4</th>\n",
       "      <td>7.2</td>\n",
       "      <td>0.23</td>\n",
       "      <td>0.32</td>\n",
       "      <td>8.5</td>\n",
       "      <td>0.058</td>\n",
       "      <td>47.0</td>\n",
       "      <td>186.0</td>\n",
       "      <td>0.9956</td>\n",
       "      <td>3.19</td>\n",
       "      <td>0.40</td>\n",
       "      <td>9.9</td>\n",
       "      <td>6</td>\n",
       "    </tr>\n",
       "    <tr>\n",
       "      <th>5</th>\n",
       "      <td>8.1</td>\n",
       "      <td>0.28</td>\n",
       "      <td>0.40</td>\n",
       "      <td>6.9</td>\n",
       "      <td>0.050</td>\n",
       "      <td>30.0</td>\n",
       "      <td>97.0</td>\n",
       "      <td>0.9951</td>\n",
       "      <td>3.26</td>\n",
       "      <td>0.44</td>\n",
       "      <td>10.1</td>\n",
       "      <td>6</td>\n",
       "    </tr>\n",
       "    <tr>\n",
       "      <th>6</th>\n",
       "      <td>6.2</td>\n",
       "      <td>0.32</td>\n",
       "      <td>0.16</td>\n",
       "      <td>7.0</td>\n",
       "      <td>0.045</td>\n",
       "      <td>30.0</td>\n",
       "      <td>136.0</td>\n",
       "      <td>0.9949</td>\n",
       "      <td>3.18</td>\n",
       "      <td>0.47</td>\n",
       "      <td>9.6</td>\n",
       "      <td>6</td>\n",
       "    </tr>\n",
       "    <tr>\n",
       "      <th>7</th>\n",
       "      <td>7.0</td>\n",
       "      <td>0.27</td>\n",
       "      <td>0.36</td>\n",
       "      <td>20.7</td>\n",
       "      <td>0.045</td>\n",
       "      <td>45.0</td>\n",
       "      <td>170.0</td>\n",
       "      <td>1.0010</td>\n",
       "      <td>3.00</td>\n",
       "      <td>0.45</td>\n",
       "      <td>8.8</td>\n",
       "      <td>6</td>\n",
       "    </tr>\n",
       "    <tr>\n",
       "      <th>8</th>\n",
       "      <td>6.3</td>\n",
       "      <td>0.30</td>\n",
       "      <td>0.34</td>\n",
       "      <td>1.6</td>\n",
       "      <td>0.049</td>\n",
       "      <td>14.0</td>\n",
       "      <td>132.0</td>\n",
       "      <td>0.9940</td>\n",
       "      <td>3.30</td>\n",
       "      <td>0.49</td>\n",
       "      <td>9.5</td>\n",
       "      <td>6</td>\n",
       "    </tr>\n",
       "    <tr>\n",
       "      <th>9</th>\n",
       "      <td>8.1</td>\n",
       "      <td>0.22</td>\n",
       "      <td>0.43</td>\n",
       "      <td>1.5</td>\n",
       "      <td>0.044</td>\n",
       "      <td>28.0</td>\n",
       "      <td>129.0</td>\n",
       "      <td>0.9938</td>\n",
       "      <td>3.22</td>\n",
       "      <td>0.45</td>\n",
       "      <td>11.0</td>\n",
       "      <td>6</td>\n",
       "    </tr>\n",
       "  </tbody>\n",
       "</table>\n",
       "</div>"
      ],
      "text/plain": [
       "   acidez fixa  acidez volatil  acido citrico  acucar residual  cloretos  \\\n",
       "0          7.0            0.27           0.36             20.7     0.045   \n",
       "1          6.3            0.30           0.34              1.6     0.049   \n",
       "2          8.1            0.28           0.40              6.9     0.050   \n",
       "3          7.2            0.23           0.32              8.5     0.058   \n",
       "4          7.2            0.23           0.32              8.5     0.058   \n",
       "5          8.1            0.28           0.40              6.9     0.050   \n",
       "6          6.2            0.32           0.16              7.0     0.045   \n",
       "7          7.0            0.27           0.36             20.7     0.045   \n",
       "8          6.3            0.30           0.34              1.6     0.049   \n",
       "9          8.1            0.22           0.43              1.5     0.044   \n",
       "\n",
       "   dioxido de enxofre livre  dioxido de enxofre total  densidade    pH  \\\n",
       "0                      45.0                     170.0     1.0010  3.00   \n",
       "1                      14.0                     132.0     0.9940  3.30   \n",
       "2                      30.0                      97.0     0.9951  3.26   \n",
       "3                      47.0                     186.0     0.9956  3.19   \n",
       "4                      47.0                     186.0     0.9956  3.19   \n",
       "5                      30.0                      97.0     0.9951  3.26   \n",
       "6                      30.0                     136.0     0.9949  3.18   \n",
       "7                      45.0                     170.0     1.0010  3.00   \n",
       "8                      14.0                     132.0     0.9940  3.30   \n",
       "9                      28.0                     129.0     0.9938  3.22   \n",
       "\n",
       "   sulfatos  alcool  qualidade  \n",
       "0      0.45     8.8          6  \n",
       "1      0.49     9.5          6  \n",
       "2      0.44    10.1          6  \n",
       "3      0.40     9.9          6  \n",
       "4      0.40     9.9          6  \n",
       "5      0.44    10.1          6  \n",
       "6      0.47     9.6          6  \n",
       "7      0.45     8.8          6  \n",
       "8      0.49     9.5          6  \n",
       "9      0.45    11.0          6  "
      ]
     },
     "execution_count": 14,
     "metadata": {},
     "output_type": "execute_result"
    }
   ],
   "source": [
    "data.head(10)"
   ]
  },
  {
   "cell_type": "code",
   "execution_count": 7,
   "metadata": {},
   "outputs": [
    {
     "data": {
      "text/html": [
       "<div>\n",
       "<style>\n",
       "    .dataframe thead tr:only-child th {\n",
       "        text-align: right;\n",
       "    }\n",
       "\n",
       "    .dataframe thead th {\n",
       "        text-align: left;\n",
       "    }\n",
       "\n",
       "    .dataframe tbody tr th {\n",
       "        vertical-align: top;\n",
       "    }\n",
       "</style>\n",
       "<table border=\"1\" class=\"dataframe\">\n",
       "  <thead>\n",
       "    <tr style=\"text-align: right;\">\n",
       "      <th></th>\n",
       "      <th>acidez fixa</th>\n",
       "      <th>acidez volatil</th>\n",
       "      <th>acido citrico</th>\n",
       "      <th>acucar residual</th>\n",
       "      <th>cloretos</th>\n",
       "      <th>dioxido de enxofre livre</th>\n",
       "      <th>dioxido de enxofre total</th>\n",
       "      <th>densidade</th>\n",
       "      <th>pH</th>\n",
       "      <th>sulfatos</th>\n",
       "      <th>alcool</th>\n",
       "      <th>qualidade</th>\n",
       "    </tr>\n",
       "  </thead>\n",
       "  <tbody>\n",
       "    <tr>\n",
       "      <th>count</th>\n",
       "      <td>4898.000000</td>\n",
       "      <td>4898.000000</td>\n",
       "      <td>4898.000000</td>\n",
       "      <td>4898.000000</td>\n",
       "      <td>4898.000000</td>\n",
       "      <td>4898.000000</td>\n",
       "      <td>4898.000000</td>\n",
       "      <td>4898.000000</td>\n",
       "      <td>4898.000000</td>\n",
       "      <td>4898.000000</td>\n",
       "      <td>4898.000000</td>\n",
       "      <td>4898.000000</td>\n",
       "    </tr>\n",
       "    <tr>\n",
       "      <th>mean</th>\n",
       "      <td>6.854788</td>\n",
       "      <td>0.278241</td>\n",
       "      <td>0.334192</td>\n",
       "      <td>6.391415</td>\n",
       "      <td>0.045772</td>\n",
       "      <td>35.308085</td>\n",
       "      <td>138.360657</td>\n",
       "      <td>0.994027</td>\n",
       "      <td>3.188267</td>\n",
       "      <td>0.489847</td>\n",
       "      <td>10.514267</td>\n",
       "      <td>5.877909</td>\n",
       "    </tr>\n",
       "    <tr>\n",
       "      <th>std</th>\n",
       "      <td>0.843868</td>\n",
       "      <td>0.100795</td>\n",
       "      <td>0.121020</td>\n",
       "      <td>5.072058</td>\n",
       "      <td>0.021848</td>\n",
       "      <td>17.007137</td>\n",
       "      <td>42.498065</td>\n",
       "      <td>0.002991</td>\n",
       "      <td>0.151001</td>\n",
       "      <td>0.114126</td>\n",
       "      <td>1.230621</td>\n",
       "      <td>0.885639</td>\n",
       "    </tr>\n",
       "    <tr>\n",
       "      <th>min</th>\n",
       "      <td>3.800000</td>\n",
       "      <td>0.080000</td>\n",
       "      <td>0.000000</td>\n",
       "      <td>0.600000</td>\n",
       "      <td>0.009000</td>\n",
       "      <td>2.000000</td>\n",
       "      <td>9.000000</td>\n",
       "      <td>0.987110</td>\n",
       "      <td>2.720000</td>\n",
       "      <td>0.220000</td>\n",
       "      <td>8.000000</td>\n",
       "      <td>3.000000</td>\n",
       "    </tr>\n",
       "    <tr>\n",
       "      <th>25%</th>\n",
       "      <td>6.300000</td>\n",
       "      <td>0.210000</td>\n",
       "      <td>0.270000</td>\n",
       "      <td>1.700000</td>\n",
       "      <td>0.036000</td>\n",
       "      <td>23.000000</td>\n",
       "      <td>108.000000</td>\n",
       "      <td>0.991723</td>\n",
       "      <td>3.090000</td>\n",
       "      <td>0.410000</td>\n",
       "      <td>9.500000</td>\n",
       "      <td>5.000000</td>\n",
       "    </tr>\n",
       "    <tr>\n",
       "      <th>50%</th>\n",
       "      <td>6.800000</td>\n",
       "      <td>0.260000</td>\n",
       "      <td>0.320000</td>\n",
       "      <td>5.200000</td>\n",
       "      <td>0.043000</td>\n",
       "      <td>34.000000</td>\n",
       "      <td>134.000000</td>\n",
       "      <td>0.993740</td>\n",
       "      <td>3.180000</td>\n",
       "      <td>0.470000</td>\n",
       "      <td>10.400000</td>\n",
       "      <td>6.000000</td>\n",
       "    </tr>\n",
       "    <tr>\n",
       "      <th>75%</th>\n",
       "      <td>7.300000</td>\n",
       "      <td>0.320000</td>\n",
       "      <td>0.390000</td>\n",
       "      <td>9.900000</td>\n",
       "      <td>0.050000</td>\n",
       "      <td>46.000000</td>\n",
       "      <td>167.000000</td>\n",
       "      <td>0.996100</td>\n",
       "      <td>3.280000</td>\n",
       "      <td>0.550000</td>\n",
       "      <td>11.400000</td>\n",
       "      <td>6.000000</td>\n",
       "    </tr>\n",
       "    <tr>\n",
       "      <th>max</th>\n",
       "      <td>14.200000</td>\n",
       "      <td>1.100000</td>\n",
       "      <td>1.660000</td>\n",
       "      <td>65.800000</td>\n",
       "      <td>0.346000</td>\n",
       "      <td>289.000000</td>\n",
       "      <td>440.000000</td>\n",
       "      <td>1.038980</td>\n",
       "      <td>3.820000</td>\n",
       "      <td>1.080000</td>\n",
       "      <td>14.200000</td>\n",
       "      <td>9.000000</td>\n",
       "    </tr>\n",
       "  </tbody>\n",
       "</table>\n",
       "</div>"
      ],
      "text/plain": [
       "       acidez fixa  acidez volatil  acido citrico  acucar residual  \\\n",
       "count  4898.000000     4898.000000    4898.000000      4898.000000   \n",
       "mean      6.854788        0.278241       0.334192         6.391415   \n",
       "std       0.843868        0.100795       0.121020         5.072058   \n",
       "min       3.800000        0.080000       0.000000         0.600000   \n",
       "25%       6.300000        0.210000       0.270000         1.700000   \n",
       "50%       6.800000        0.260000       0.320000         5.200000   \n",
       "75%       7.300000        0.320000       0.390000         9.900000   \n",
       "max      14.200000        1.100000       1.660000        65.800000   \n",
       "\n",
       "          cloretos  dioxido de enxofre livre  dioxido de enxofre total  \\\n",
       "count  4898.000000               4898.000000               4898.000000   \n",
       "mean      0.045772                 35.308085                138.360657   \n",
       "std       0.021848                 17.007137                 42.498065   \n",
       "min       0.009000                  2.000000                  9.000000   \n",
       "25%       0.036000                 23.000000                108.000000   \n",
       "50%       0.043000                 34.000000                134.000000   \n",
       "75%       0.050000                 46.000000                167.000000   \n",
       "max       0.346000                289.000000                440.000000   \n",
       "\n",
       "         densidade           pH     sulfatos       alcool    qualidade  \n",
       "count  4898.000000  4898.000000  4898.000000  4898.000000  4898.000000  \n",
       "mean      0.994027     3.188267     0.489847    10.514267     5.877909  \n",
       "std       0.002991     0.151001     0.114126     1.230621     0.885639  \n",
       "min       0.987110     2.720000     0.220000     8.000000     3.000000  \n",
       "25%       0.991723     3.090000     0.410000     9.500000     5.000000  \n",
       "50%       0.993740     3.180000     0.470000    10.400000     6.000000  \n",
       "75%       0.996100     3.280000     0.550000    11.400000     6.000000  \n",
       "max       1.038980     3.820000     1.080000    14.200000     9.000000  "
      ]
     },
     "execution_count": 7,
     "metadata": {},
     "output_type": "execute_result"
    }
   ],
   "source": [
    "data.describe()"
   ]
  },
  {
   "cell_type": "code",
   "execution_count": 8,
   "metadata": {},
   "outputs": [
    {
     "name": "stdout",
     "output_type": "stream",
     "text": [
      "(4898, 12)\n"
     ]
    }
   ],
   "source": [
    "print(data.shape)"
   ]
  },
  {
   "cell_type": "code",
   "execution_count": 10,
   "metadata": {},
   "outputs": [
    {
     "name": "stdout",
     "output_type": "stream",
     "text": [
      "qualidade\n",
      "3      20\n",
      "4     163\n",
      "5    1457\n",
      "6    2198\n",
      "7     880\n",
      "8     175\n",
      "9       5\n",
      "dtype: int64\n"
     ]
    }
   ],
   "source": [
    "print(data.groupby('qualidade').size())"
   ]
  },
  {
   "cell_type": "code",
   "execution_count": 11,
   "metadata": {},
   "outputs": [
    {
     "data": {
      "image/png": "[encoded data removed]",
      "text/plain": [
       "<matplotlib.figure.Figure at 0x103cd9b00>"
      ]
     },
     "metadata": {},
     "output_type": "display_data"
    }
   ],
   "source": [
    "data.hist();"
   ]
  },
  {
   "cell_type": "code",
   "execution_count": 12,
   "metadata": {},
   "outputs": [
    {
     "data": {
      "text/html": [
       "<div>\n",
       "<style>\n",
       "    .dataframe thead tr:only-child th {\n",
       "        text-align: right;\n",
       "    }\n",
       "\n",
       "    .dataframe thead th {\n",
       "        text-align: left;\n",
       "    }\n",
       "\n",
       "    .dataframe tbody tr th {\n",
       "        vertical-align: top;\n",
       "    }\n",
       "</style>\n",
       "<table border=\"1\" class=\"dataframe\">\n",
       "  <thead>\n",
       "    <tr style=\"text-align: right;\">\n",
       "      <th></th>\n",
       "      <th>acidez fixa</th>\n",
       "      <th>acidez volatil</th>\n",
       "      <th>acido citrico</th>\n",
       "      <th>acucar residual</th>\n",
       "      <th>cloretos</th>\n",
       "      <th>dioxido de enxofre livre</th>\n",
       "      <th>dioxido de enxofre total</th>\n",
       "      <th>densidade</th>\n",
       "      <th>pH</th>\n",
       "      <th>sulfatos</th>\n",
       "      <th>alcool</th>\n",
       "      <th>qualidade</th>\n",
       "    </tr>\n",
       "  </thead>\n",
       "  <tbody>\n",
       "    <tr>\n",
       "      <th>acidez fixa</th>\n",
       "      <td>1.000000</td>\n",
       "      <td>-0.022697</td>\n",
       "      <td>0.289181</td>\n",
       "      <td>0.089021</td>\n",
       "      <td>0.023086</td>\n",
       "      <td>-0.049396</td>\n",
       "      <td>0.091070</td>\n",
       "      <td>0.265331</td>\n",
       "      <td>-0.425858</td>\n",
       "      <td>-0.017143</td>\n",
       "      <td>-0.120881</td>\n",
       "      <td>-0.113663</td>\n",
       "    </tr>\n",
       "    <tr>\n",
       "      <th>acidez volatil</th>\n",
       "      <td>-0.022697</td>\n",
       "      <td>1.000000</td>\n",
       "      <td>-0.149472</td>\n",
       "      <td>0.064286</td>\n",
       "      <td>0.070512</td>\n",
       "      <td>-0.097012</td>\n",
       "      <td>0.089261</td>\n",
       "      <td>0.027114</td>\n",
       "      <td>-0.031915</td>\n",
       "      <td>-0.035728</td>\n",
       "      <td>0.067718</td>\n",
       "      <td>-0.194723</td>\n",
       "    </tr>\n",
       "    <tr>\n",
       "      <th>acido citrico</th>\n",
       "      <td>0.289181</td>\n",
       "      <td>-0.149472</td>\n",
       "      <td>1.000000</td>\n",
       "      <td>0.094212</td>\n",
       "      <td>0.114364</td>\n",
       "      <td>0.094077</td>\n",
       "      <td>0.121131</td>\n",
       "      <td>0.149503</td>\n",
       "      <td>-0.163748</td>\n",
       "      <td>0.062331</td>\n",
       "      <td>-0.075729</td>\n",
       "      <td>-0.009209</td>\n",
       "    </tr>\n",
       "    <tr>\n",
       "      <th>acucar residual</th>\n",
       "      <td>0.089021</td>\n",
       "      <td>0.064286</td>\n",
       "      <td>0.094212</td>\n",
       "      <td>1.000000</td>\n",
       "      <td>0.088685</td>\n",
       "      <td>0.299098</td>\n",
       "      <td>0.401439</td>\n",
       "      <td>0.838966</td>\n",
       "      <td>-0.194133</td>\n",
       "      <td>-0.026664</td>\n",
       "      <td>-0.450631</td>\n",
       "      <td>-0.097577</td>\n",
       "    </tr>\n",
       "    <tr>\n",
       "      <th>cloretos</th>\n",
       "      <td>0.023086</td>\n",
       "      <td>0.070512</td>\n",
       "      <td>0.114364</td>\n",
       "      <td>0.088685</td>\n",
       "      <td>1.000000</td>\n",
       "      <td>0.101392</td>\n",
       "      <td>0.198910</td>\n",
       "      <td>0.257211</td>\n",
       "      <td>-0.090439</td>\n",
       "      <td>0.016763</td>\n",
       "      <td>-0.360189</td>\n",
       "      <td>-0.209934</td>\n",
       "    </tr>\n",
       "    <tr>\n",
       "      <th>dioxido de enxofre livre</th>\n",
       "      <td>-0.049396</td>\n",
       "      <td>-0.097012</td>\n",
       "      <td>0.094077</td>\n",
       "      <td>0.299098</td>\n",
       "      <td>0.101392</td>\n",
       "      <td>1.000000</td>\n",
       "      <td>0.615501</td>\n",
       "      <td>0.294210</td>\n",
       "      <td>-0.000618</td>\n",
       "      <td>0.059217</td>\n",
       "      <td>-0.250104</td>\n",
       "      <td>0.008158</td>\n",
       "    </tr>\n",
       "    <tr>\n",
       "      <th>dioxido de enxofre total</th>\n",
       "      <td>0.091070</td>\n",
       "      <td>0.089261</td>\n",
       "      <td>0.121131</td>\n",
       "      <td>0.401439</td>\n",
       "      <td>0.198910</td>\n",
       "      <td>0.615501</td>\n",
       "      <td>1.000000</td>\n",
       "      <td>0.529881</td>\n",
       "      <td>0.002321</td>\n",
       "      <td>0.134562</td>\n",
       "      <td>-0.448892</td>\n",
       "      <td>-0.174737</td>\n",
       "    </tr>\n",
       "    <tr>\n",
       "      <th>densidade</th>\n",
       "      <td>0.265331</td>\n",
       "      <td>0.027114</td>\n",
       "      <td>0.149503</td>\n",
       "      <td>0.838966</td>\n",
       "      <td>0.257211</td>\n",
       "      <td>0.294210</td>\n",
       "      <td>0.529881</td>\n",
       "      <td>1.000000</td>\n",
       "      <td>-0.093591</td>\n",
       "      <td>0.074493</td>\n",
       "      <td>-0.780138</td>\n",
       "      <td>-0.307123</td>\n",
       "    </tr>\n",
       "    <tr>\n",
       "      <th>pH</th>\n",
       "      <td>-0.425858</td>\n",
       "      <td>-0.031915</td>\n",
       "      <td>-0.163748</td>\n",
       "      <td>-0.194133</td>\n",
       "      <td>-0.090439</td>\n",
       "      <td>-0.000618</td>\n",
       "      <td>0.002321</td>\n",
       "      <td>-0.093591</td>\n",
       "      <td>1.000000</td>\n",
       "      <td>0.155951</td>\n",
       "      <td>0.121432</td>\n",
       "      <td>0.099427</td>\n",
       "    </tr>\n",
       "    <tr>\n",
       "      <th>sulfatos</th>\n",
       "      <td>-0.017143</td>\n",
       "      <td>-0.035728</td>\n",
       "      <td>0.062331</td>\n",
       "      <td>-0.026664</td>\n",
       "      <td>0.016763</td>\n",
       "      <td>0.059217</td>\n",
       "      <td>0.134562</td>\n",
       "      <td>0.074493</td>\n",
       "      <td>0.155951</td>\n",
       "      <td>1.000000</td>\n",
       "      <td>-0.017433</td>\n",
       "      <td>0.053678</td>\n",
       "    </tr>\n",
       "    <tr>\n",
       "      <th>alcool</th>\n",
       "      <td>-0.120881</td>\n",
       "      <td>0.067718</td>\n",
       "      <td>-0.075729</td>\n",
       "      <td>-0.450631</td>\n",
       "      <td>-0.360189</td>\n",
       "      <td>-0.250104</td>\n",
       "      <td>-0.448892</td>\n",
       "      <td>-0.780138</td>\n",
       "      <td>0.121432</td>\n",
       "      <td>-0.017433</td>\n",
       "      <td>1.000000</td>\n",
       "      <td>0.435575</td>\n",
       "    </tr>\n",
       "    <tr>\n",
       "      <th>qualidade</th>\n",
       "      <td>-0.113663</td>\n",
       "      <td>-0.194723</td>\n",
       "      <td>-0.009209</td>\n",
       "      <td>-0.097577</td>\n",
       "      <td>-0.209934</td>\n",
       "      <td>0.008158</td>\n",
       "      <td>-0.174737</td>\n",
       "      <td>-0.307123</td>\n",
       "      <td>0.099427</td>\n",
       "      <td>0.053678</td>\n",
       "      <td>0.435575</td>\n",
       "      <td>1.000000</td>\n",
       "    </tr>\n",
       "  </tbody>\n",
       "</table>\n",
       "</div>"
      ],
      "text/plain": [
       "                          acidez fixa  acidez volatil  acido citrico  \\\n",
       "acidez fixa                  1.000000       -0.022697       0.289181   \n",
       "acidez volatil              -0.022697        1.000000      -0.149472   \n",
       "acido citrico                0.289181       -0.149472       1.000000   \n",
       "acucar residual              0.089021        0.064286       0.094212   \n",
       "cloretos                     0.023086        0.070512       0.114364   \n",
       "dioxido de enxofre livre    -0.049396       -0.097012       0.094077   \n",
       "dioxido de enxofre total     0.091070        0.089261       0.121131   \n",
       "densidade                    0.265331        0.027114       0.149503   \n",
       "pH                          -0.425858       -0.031915      -0.163748   \n",
       "sulfatos                    -0.017143       -0.035728       0.062331   \n",
       "alcool                      -0.120881        0.067718      -0.075729   \n",
       "qualidade                   -0.113663       -0.194723      -0.009209   \n",
       "\n",
       "                          acucar residual  cloretos  dioxido de enxofre livre  \\\n",
       "acidez fixa                      0.089021  0.023086                 -0.049396   \n",
       "acidez volatil                   0.064286  0.070512                 -0.097012   \n",
       "acido citrico                    0.094212  0.114364                  0.094077   \n",
       "acucar residual                  1.000000  0.088685                  0.299098   \n",
       "cloretos                         0.088685  1.000000                  0.101392   \n",
       "dioxido de enxofre livre         0.299098  0.101392                  1.000000   \n",
       "dioxido de enxofre total         0.401439  0.198910                  0.615501   \n",
       "densidade                        0.838966  0.257211                  0.294210   \n",
       "pH                              -0.194133 -0.090439                 -0.000618   \n",
       "sulfatos                        -0.026664  0.016763                  0.059217   \n",
       "alcool                          -0.450631 -0.360189                 -0.250104   \n",
       "qualidade                       -0.097577 -0.209934                  0.008158   \n",
       "\n",
       "                          dioxido de enxofre total  densidade        pH  \\\n",
       "acidez fixa                               0.091070   0.265331 -0.425858   \n",
       "acidez volatil                            0.089261   0.027114 -0.031915   \n",
       "acido citrico                             0.121131   0.149503 -0.163748   \n",
       "acucar residual                           0.401439   0.838966 -0.194133   \n",
       "cloretos                                  0.198910   0.257211 -0.090439   \n",
       "dioxido de enxofre livre                  0.615501   0.294210 -0.000618   \n",
       "dioxido de enxofre total                  1.000000   0.529881  0.002321   \n",
       "densidade                                 0.529881   1.000000 -0.093591   \n",
       "pH                                        0.002321  -0.093591  1.000000   \n",
       "sulfatos                                  0.134562   0.074493  0.155951   \n",
       "alcool                                   -0.448892  -0.780138  0.121432   \n",
       "qualidade                                -0.174737  -0.307123  0.099427   \n",
       "\n",
       "                          sulfatos    alcool  qualidade  \n",
       "acidez fixa              -0.017143 -0.120881  -0.113663  \n",
       "acidez volatil           -0.035728  0.067718  -0.194723  \n",
       "acido citrico             0.062331 -0.075729  -0.009209  \n",
       "acucar residual          -0.026664 -0.450631  -0.097577  \n",
       "cloretos                  0.016763 -0.360189  -0.209934  \n",
       "dioxido de enxofre livre  0.059217 -0.250104   0.008158  \n",
       "dioxido de enxofre total  0.134562 -0.448892  -0.174737  \n",
       "densidade                 0.074493 -0.780138  -0.307123  \n",
       "pH                        0.155951  0.121432   0.099427  \n",
       "sulfatos                  1.000000 -0.017433   0.053678  \n",
       "alcool                   -0.017433  1.000000   0.435575  \n",
       "qualidade                 0.053678  0.435575   1.000000  "
      ]
     },
     "execution_count": 12,
     "metadata": {},
     "output_type": "execute_result"
    }
   ],
   "source": [
    "data.corr()"
   ]
  },
  {
   "cell_type": "markdown",
   "metadata": {},
   "source": [
    "### Criação do dataset de validação "
   ]
  },
  {
   "cell_type": "code",
   "execution_count": 15,
   "metadata": {},
   "outputs": [
    {
     "name": "stdout",
     "output_type": "stream",
     "text": [
      "[[  7.     0.27   0.36 ...,   0.45   8.8    6.  ]\n",
      " [  6.3    0.3    0.34 ...,   0.49   9.5    6.  ]\n",
      " [  8.1    0.28   0.4  ...,   0.44  10.1    6.  ]\n",
      " ..., \n",
      " [  6.5    0.24   0.19 ...,   0.46   9.4    6.  ]\n",
      " [  5.5    0.29   0.3  ...,   0.38  12.8    7.  ]\n",
      " [  6.     0.21   0.38 ...,   0.32  11.8    6.  ]]\n"
     ]
    }
   ],
   "source": [
    "dataset = data.values\n",
    "print(dataset)"
   ]
  },
  {
   "cell_type": "code",
   "execution_count": 17,
   "metadata": {},
   "outputs": [
    {
     "data": {
      "text/plain": [
       "array([[  6.7 ,   0.62,   0.24, ...,   0.32,  10.4 ,   5.  ],\n",
       "       [  6.9 ,   0.19,   0.49, ...,   0.27,  11.5 ,   6.  ],\n",
       "       [  7.7 ,   0.42,   0.38, ...,   0.58,  11.  ,   6.  ],\n",
       "       ..., \n",
       "       [  7.5 ,   0.23,   0.32, ...,   0.56,   9.7 ,   6.  ],\n",
       "       [  8.3 ,   0.33,   0.42, ...,   0.32,  12.4 ,   3.  ],\n",
       "       [  6.6 ,   0.32,   0.34, ...,   0.48,   9.7 ,   6.  ]])"
      ]
     },
     "execution_count": 17,
     "metadata": {},
     "output_type": "execute_result"
    }
   ],
   "source": [
    "np.random.seed(1)\n",
    "np.random.shuffle(dataset)\n",
    "dataset"
   ]
  },
  {
   "cell_type": "code",
   "execution_count": 18,
   "metadata": {},
   "outputs": [],
   "source": [
    "X = dataset[:,:11]\n",
    "y = dataset[:,11]"
   ]
  },
  {
   "cell_type": "code",
   "execution_count": 19,
   "metadata": {},
   "outputs": [],
   "source": [
    "n_train = int(round(len(y) * 0.75))\n",
    "X_train = X[:n_train,:]\n",
    "y_train = y[:n_train]\n",
    "X_test = X[n_train:,:]\n",
    "y_test = y[n_train:]"
   ]
  },
  {
   "cell_type": "code",
   "execution_count": 20,
   "metadata": {},
   "outputs": [
    {
     "data": {
      "text/plain": [
       "((4898, 11), (4898,), (3674, 11), (3674,), (1224, 11), (1224,))"
      ]
     },
     "execution_count": 20,
     "metadata": {},
     "output_type": "execute_result"
    }
   ],
   "source": [
    "X.shape, y.shape, X_train.shape, y_train.shape, X_test.shape, y_test.shape"
   ]
  },
  {
   "cell_type": "markdown",
   "metadata": {},
   "source": [
    "### Criação dos modelos"
   ]
  },
  {
   "cell_type": "markdown",
   "metadata": {},
   "source": [
    "#### Classificadores utilizados:\n",
    "\n",
    "- DecisionTreeClassifier\n",
    "- SVC\n",
    "- KNN\n",
    "- Logistic Regression\n",
    "- Naive Bayes\n",
    "- SGDClassifier\n",
    "- RandomForest\n",
    "- GradientBoosting"
   ]
  },
  {
   "cell_type": "code",
   "execution_count": 22,
   "metadata": {},
   "outputs": [
    {
     "name": "stderr",
     "output_type": "stream",
     "text": [
      "/usr/local/lib/python3.6/site-packages/sklearn/linear_model/stochastic_gradient.py:84: FutureWarning: max_iter and tol parameters have been added in <class 'sklearn.linear_model.stochastic_gradient.SGDClassifier'> in 0.19. If both are left unset, they default to max_iter=5 and tol=None. If tol is not None, max_iter defaults to max_iter=1000. From 0.21, default max_iter will be 1000, and default tol will be 1e-3.\n",
      "  \"and default tol will be 1e-3.\" % type(self), FutureWarning)\n"
     ]
    }
   ],
   "source": [
    "model_decisiontree = tree.DecisionTreeClassifier()\n",
    "model_svc = svm.SVC()\n",
    "model_knn = neighbors.KNeighborsClassifier()\n",
    "model_logisticregression = linear_model.LogisticRegression(multi_class='multinomial',solver='newton-cg')\n",
    "model_naivebayes = naive_bayes.GaussianNB()\n",
    "model_sgdclassifier = linear_model.SGDClassifier()\n",
    "model_randomforest = ensemble.RandomForestClassifier()\n",
    "model_gradientboosting = ensemble.GradientBoostingClassifier()"
   ]
  },
  {
   "cell_type": "code",
   "execution_count": 23,
   "metadata": {},
   "outputs": [
    {
     "data": {
      "text/plain": [
       "GradientBoostingClassifier(criterion='friedman_mse', init=None,\n",
       "              learning_rate=0.1, loss='deviance', max_depth=3,\n",
       "              max_features=None, max_leaf_nodes=None,\n",
       "              min_impurity_decrease=0.0, min_impurity_split=None,\n",
       "              min_samples_leaf=1, min_samples_split=2,\n",
       "              min_weight_fraction_leaf=0.0, n_estimators=100,\n",
       "              presort='auto', random_state=None, subsample=1.0, verbose=0,\n",
       "              warm_start=False)"
      ]
     },
     "execution_count": 23,
     "metadata": {},
     "output_type": "execute_result"
    }
   ],
   "source": [
    "model_decisiontree.fit(X_train,y_train)\n",
    "model_svc.fit(X_train,y_train)\n",
    "model_knn.fit(X_train,y_train)\n",
    "model_logisticregression.fit(X_train,y_train)\n",
    "model_naivebayes.fit(X_train,y_train)\n",
    "model_sgdclassifier.fit(X_train,y_train)\n",
    "model_randomforest.fit(X_train,y_train)\n",
    "model_gradientboosting.fit(X_train,y_train)"
   ]
  },
  {
   "cell_type": "code",
   "execution_count": 24,
   "metadata": {},
   "outputs": [],
   "source": [
    "pred_decisiontree = model_decisiontree.predict(X_test)\n",
    "pred_svc = model_svc.predict(X_test)\n",
    "pred_knn = model_knn.predict(X_test)\n",
    "pred_logisticregression = model_logisticregression.predict(X_test)\n",
    "pred_naivebayes = model_naivebayes.predict(X_test)\n",
    "pred_sgdclassifier = model_sgdclassifier.predict(X_test)\n",
    "pred_randomforest = model_randomforest.predict(X_test)\n",
    "pred_gradientboosting = model_gradientboosting.predict(X_test)"
   ]
  },
  {
   "cell_type": "markdown",
   "metadata": {},
   "source": [
    "### Resultados"
   ]
  },
  {
   "cell_type": "markdown",
   "metadata": {},
   "source": [
    "#### DecisionTreeClassifier"
   ]
  },
  {
   "cell_type": "code",
   "execution_count": 25,
   "metadata": {},
   "outputs": [
    {
     "name": "stdout",
     "output_type": "stream",
     "text": [
      "             precision    recall  f1-score   support\n",
      "\n",
      "        3.0       0.00      0.00      0.00        11\n",
      "        4.0       0.26      0.28      0.27        39\n",
      "        5.0       0.62      0.61      0.61       364\n",
      "        6.0       0.63      0.61      0.62       550\n",
      "        7.0       0.53      0.56      0.54       221\n",
      "        8.0       0.29      0.49      0.36        37\n",
      "        9.0       0.00      0.00      0.00         2\n",
      "\n",
      "avg / total       0.58      0.58      0.58      1224\n",
      "\n"
     ]
    },
    {
     "name": "stderr",
     "output_type": "stream",
     "text": [
      "/usr/local/lib/python3.6/site-packages/sklearn/metrics/classification.py:1135: UndefinedMetricWarning: Precision and F-score are ill-defined and being set to 0.0 in labels with no predicted samples.\n",
      "  'precision', 'predicted', average, warn_for)\n"
     ]
    }
   ],
   "source": [
    "print(metrics.classification_report(y_test, pred_decisiontree))"
   ]
  },
  {
   "cell_type": "code",
   "execution_count": 26,
   "metadata": {},
   "outputs": [
    {
     "name": "stdout",
     "output_type": "stream",
     "text": [
      "0.579248366013\n"
     ]
    }
   ],
   "source": [
    "dtc = metrics.accuracy_score(y_test, pred_decisiontree)\n",
    "print(dtc)"
   ]
  },
  {
   "cell_type": "markdown",
   "metadata": {},
   "source": [
    "#### C-Support Vector Classification (SVC)"
   ]
  },
  {
   "cell_type": "code",
   "execution_count": 27,
   "metadata": {},
   "outputs": [
    {
     "name": "stdout",
     "output_type": "stream",
     "text": [
      "             precision    recall  f1-score   support\n",
      "\n",
      "        3.0       0.00      0.00      0.00        11\n",
      "        4.0       0.50      0.03      0.05        39\n",
      "        5.0       0.60      0.45      0.52       364\n",
      "        6.0       0.54      0.80      0.65       550\n",
      "        7.0       0.59      0.35      0.44       221\n",
      "        8.0       0.83      0.14      0.23        37\n",
      "        9.0       0.00      0.00      0.00         2\n",
      "\n",
      "avg / total       0.57      0.56      0.53      1224\n",
      "\n"
     ]
    },
    {
     "name": "stderr",
     "output_type": "stream",
     "text": [
      "/usr/local/lib/python3.6/site-packages/sklearn/metrics/classification.py:1135: UndefinedMetricWarning: Precision and F-score are ill-defined and being set to 0.0 in labels with no predicted samples.\n",
      "  'precision', 'predicted', average, warn_for)\n"
     ]
    }
   ],
   "source": [
    "print(metrics.classification_report(y_test, pred_svc))"
   ]
  },
  {
   "cell_type": "code",
   "execution_count": 28,
   "metadata": {},
   "outputs": [
    {
     "name": "stdout",
     "output_type": "stream",
     "text": [
      "0.562091503268\n"
     ]
    }
   ],
   "source": [
    "svc = metrics.accuracy_score(y_test, pred_svc)\n",
    "print(svc)"
   ]
  },
  {
   "cell_type": "markdown",
   "metadata": {},
   "source": [
    "#### KNeighborsClassifier (KNN)"
   ]
  },
  {
   "cell_type": "code",
   "execution_count": 29,
   "metadata": {},
   "outputs": [
    {
     "name": "stdout",
     "output_type": "stream",
     "text": [
      "             precision    recall  f1-score   support\n",
      "\n",
      "        3.0       0.00      0.00      0.00        11\n",
      "        4.0       0.13      0.10      0.12        39\n",
      "        5.0       0.45      0.51      0.48       364\n",
      "        6.0       0.53      0.60      0.56       550\n",
      "        7.0       0.48      0.33      0.39       221\n",
      "        8.0       0.18      0.05      0.08        37\n",
      "        9.0       0.00      0.00      0.00         2\n",
      "\n",
      "avg / total       0.47      0.49      0.47      1224\n",
      "\n"
     ]
    },
    {
     "name": "stderr",
     "output_type": "stream",
     "text": [
      "/usr/local/lib/python3.6/site-packages/sklearn/metrics/classification.py:1135: UndefinedMetricWarning: Precision and F-score are ill-defined and being set to 0.0 in labels with no predicted samples.\n",
      "  'precision', 'predicted', average, warn_for)\n"
     ]
    }
   ],
   "source": [
    "print(metrics.classification_report(y_test, pred_knn))"
   ]
  },
  {
   "cell_type": "code",
   "execution_count": 30,
   "metadata": {},
   "outputs": [
    {
     "name": "stdout",
     "output_type": "stream",
     "text": [
      "0.486111111111\n"
     ]
    }
   ],
   "source": [
    "knn = metrics.accuracy_score(y_test, pred_knn)\n",
    "print(knn)"
   ]
  },
  {
   "cell_type": "markdown",
   "metadata": {},
   "source": [
    "#### LogisticRegression"
   ]
  },
  {
   "cell_type": "code",
   "execution_count": 31,
   "metadata": {},
   "outputs": [
    {
     "name": "stdout",
     "output_type": "stream",
     "text": [
      "             precision    recall  f1-score   support\n",
      "\n",
      "        3.0       0.00      0.00      0.00        11\n",
      "        4.0       0.00      0.00      0.00        39\n",
      "        5.0       0.57      0.53      0.55       364\n",
      "        6.0       0.53      0.75      0.62       550\n",
      "        7.0       0.45      0.20      0.28       221\n",
      "        8.0       0.00      0.00      0.00        37\n",
      "        9.0       0.00      0.00      0.00         2\n",
      "\n",
      "avg / total       0.49      0.53      0.49      1224\n",
      "\n"
     ]
    },
    {
     "name": "stderr",
     "output_type": "stream",
     "text": [
      "/usr/local/lib/python3.6/site-packages/sklearn/metrics/classification.py:1135: UndefinedMetricWarning: Precision and F-score are ill-defined and being set to 0.0 in labels with no predicted samples.\n",
      "  'precision', 'predicted', average, warn_for)\n"
     ]
    }
   ],
   "source": [
    "print(metrics.classification_report(y_test, pred_logisticregression))"
   ]
  },
  {
   "cell_type": "code",
   "execution_count": 32,
   "metadata": {},
   "outputs": [
    {
     "name": "stdout",
     "output_type": "stream",
     "text": [
      "0.531045751634\n"
     ]
    }
   ],
   "source": [
    "lr = metrics.accuracy_score(y_test, pred_logisticregression)\n",
    "print(lr)"
   ]
  },
  {
   "cell_type": "markdown",
   "metadata": {},
   "source": [
    "#### GaussianNB"
   ]
  },
  {
   "cell_type": "code",
   "execution_count": 33,
   "metadata": {},
   "outputs": [
    {
     "name": "stdout",
     "output_type": "stream",
     "text": [
      "             precision    recall  f1-score   support\n",
      "\n",
      "        3.0       0.29      0.18      0.22        11\n",
      "        4.0       0.29      0.33      0.31        39\n",
      "        5.0       0.48      0.51      0.49       364\n",
      "        6.0       0.48      0.32      0.39       550\n",
      "        7.0       0.34      0.65      0.45       221\n",
      "        8.0       0.38      0.08      0.13        37\n",
      "        9.0       0.00      0.00      0.00         2\n",
      "\n",
      "avg / total       0.45      0.43      0.42      1224\n",
      "\n"
     ]
    },
    {
     "name": "stderr",
     "output_type": "stream",
     "text": [
      "/usr/local/lib/python3.6/site-packages/sklearn/metrics/classification.py:1135: UndefinedMetricWarning: Precision and F-score are ill-defined and being set to 0.0 in labels with no predicted samples.\n",
      "  'precision', 'predicted', average, warn_for)\n"
     ]
    }
   ],
   "source": [
    "print(metrics.classification_report(y_test, pred_naivebayes))"
   ]
  },
  {
   "cell_type": "code",
   "execution_count": 34,
   "metadata": {},
   "outputs": [
    {
     "name": "stdout",
     "output_type": "stream",
     "text": [
      "0.426470588235\n"
     ]
    }
   ],
   "source": [
    "nb = metrics.accuracy_score(y_test, pred_naivebayes)\n",
    "print(nb)"
   ]
  },
  {
   "cell_type": "markdown",
   "metadata": {},
   "source": [
    "#### SGDClassifier"
   ]
  },
  {
   "cell_type": "code",
   "execution_count": 35,
   "metadata": {},
   "outputs": [
    {
     "name": "stdout",
     "output_type": "stream",
     "text": [
      "             precision    recall  f1-score   support\n",
      "\n",
      "        3.0       0.00      0.00      0.00        11\n",
      "        4.0       0.00      0.00      0.00        39\n",
      "        5.0       0.00      0.00      0.00       364\n",
      "        6.0       0.45      1.00      0.62       550\n",
      "        7.0       0.00      0.00      0.00       221\n",
      "        8.0       0.00      0.00      0.00        37\n",
      "        9.0       0.00      0.00      0.00         2\n",
      "\n",
      "avg / total       0.20      0.45      0.28      1224\n",
      "\n"
     ]
    },
    {
     "name": "stderr",
     "output_type": "stream",
     "text": [
      "/usr/local/lib/python3.6/site-packages/sklearn/metrics/classification.py:1135: UndefinedMetricWarning: Precision and F-score are ill-defined and being set to 0.0 in labels with no predicted samples.\n",
      "  'precision', 'predicted', average, warn_for)\n"
     ]
    }
   ],
   "source": [
    "print(metrics.classification_report(y_test, pred_sgdclassifier))"
   ]
  },
  {
   "cell_type": "code",
   "execution_count": 36,
   "metadata": {},
   "outputs": [
    {
     "name": "stdout",
     "output_type": "stream",
     "text": [
      "0.449346405229\n"
     ]
    }
   ],
   "source": [
    "sgd = metrics.accuracy_score(y_test, pred_sgdclassifier)\n",
    "print(sgd)"
   ]
  },
  {
   "cell_type": "markdown",
   "metadata": {},
   "source": [
    "#### RandomForestClassifier"
   ]
  },
  {
   "cell_type": "code",
   "execution_count": 37,
   "metadata": {},
   "outputs": [
    {
     "name": "stdout",
     "output_type": "stream",
     "text": [
      "             precision    recall  f1-score   support\n",
      "\n",
      "        3.0       0.00      0.00      0.00        11\n",
      "        4.0       0.67      0.26      0.37        39\n",
      "        5.0       0.67      0.72      0.70       364\n",
      "        6.0       0.65      0.75      0.70       550\n",
      "        7.0       0.65      0.50      0.57       221\n",
      "        8.0       0.76      0.43      0.55        37\n",
      "        9.0       0.00      0.00      0.00         2\n",
      "\n",
      "avg / total       0.66      0.66      0.65      1224\n",
      "\n"
     ]
    },
    {
     "name": "stderr",
     "output_type": "stream",
     "text": [
      "/usr/local/lib/python3.6/site-packages/sklearn/metrics/classification.py:1135: UndefinedMetricWarning: Precision and F-score are ill-defined and being set to 0.0 in labels with no predicted samples.\n",
      "  'precision', 'predicted', average, warn_for)\n"
     ]
    }
   ],
   "source": [
    "print(metrics.classification_report(y_test, pred_randomforest))"
   ]
  },
  {
   "cell_type": "code",
   "execution_count": 38,
   "metadata": {},
   "outputs": [
    {
     "name": "stdout",
     "output_type": "stream",
     "text": [
      "0.662581699346\n"
     ]
    }
   ],
   "source": [
    "rf = metrics.accuracy_score(y_test, pred_randomforest)\n",
    "print(rf)"
   ]
  },
  {
   "cell_type": "markdown",
   "metadata": {},
   "source": [
    "#### GradientBoostingClassifier"
   ]
  },
  {
   "cell_type": "code",
   "execution_count": 40,
   "metadata": {},
   "outputs": [
    {
     "name": "stdout",
     "output_type": "stream",
     "text": [
      "             precision    recall  f1-score   support\n",
      "\n",
      "        3.0       0.00      0.00      0.00        11\n",
      "        4.0       0.27      0.18      0.22        39\n",
      "        5.0       0.60      0.53      0.56       364\n",
      "        6.0       0.56      0.73      0.63       550\n",
      "        7.0       0.55      0.34      0.42       221\n",
      "        8.0       0.57      0.11      0.18        37\n",
      "        9.0       0.00      0.00      0.00         2\n",
      "\n",
      "avg / total       0.55      0.56      0.54      1224\n",
      "\n"
     ]
    },
    {
     "name": "stderr",
     "output_type": "stream",
     "text": [
      "/usr/local/lib/python3.6/site-packages/sklearn/metrics/classification.py:1135: UndefinedMetricWarning: Precision and F-score are ill-defined and being set to 0.0 in labels with no predicted samples.\n",
      "  'precision', 'predicted', average, warn_for)\n"
     ]
    }
   ],
   "source": [
    "print(metrics.classification_report(y_test, pred_gradientboosting))"
   ]
  },
  {
   "cell_type": "code",
   "execution_count": 41,
   "metadata": {},
   "outputs": [
    {
     "name": "stdout",
     "output_type": "stream",
     "text": [
      "0.557189542484\n"
     ]
    }
   ],
   "source": [
    "gb = metrics.accuracy_score(y_test, pred_gradientboosting)\n",
    "print(gb)"
   ]
  },
  {
   "cell_type": "markdown",
   "metadata": {},
   "source": [
    "### Comparando os resultados"
   ]
  },
  {
   "cell_type": "code",
   "execution_count": 42,
   "metadata": {},
   "outputs": [
    {
     "name": "stdout",
     "output_type": "stream",
     "text": [
      "DTC: 0.579248366013\n",
      "SVC: 0.562091503268\n",
      "KNN: 0.486111111111\n",
      "LR: 0.531045751634\n",
      "NB: 0.426470588235\n",
      "SGD: 0.449346405229\n",
      "RF: 0.662581699346\n",
      "GB: 0.557189542484\n"
     ]
    }
   ],
   "source": [
    "class_names = ['DTC','SVC','KNN','LR','NB','SGD','RF','GB']\n",
    "class_ = [dtc,svc,knn,lr,nb,sgd,rf,gb]\n",
    "for i in range(0,len(class_names)):\n",
    "    print(class_names[i] + ': ' + str(class_[i]))"
   ]
  },
  {
   "cell_type": "code",
   "execution_count": 49,
   "metadata": {},
   "outputs": [
    {
     "data": {
      "text/plain": [
       "([<matplotlib.axis.XTick at 0x109092358>,\n",
       "  <matplotlib.axis.XTick at 0x10a4614e0>,\n",
       "  <matplotlib.axis.XTick at 0x10a340da0>,\n",
       "  <matplotlib.axis.XTick at 0x10b72bb70>,\n",
       "  <matplotlib.axis.XTick at 0x10b7315c0>,\n",
       "  <matplotlib.axis.XTick at 0x10b731fd0>,\n",
       "  <matplotlib.axis.XTick at 0x10b739a20>,\n",
       "  <matplotlib.axis.XTick at 0x10b73e470>],\n",
       " <a list of 8 Text xticklabel objects>)"
      ]
     },
     "execution_count": 49,
     "metadata": {},
     "output_type": "execute_result"
    },
    {
     "data": {
      "image/png": "[encoded data removed]",
      "text/plain": [
       "<matplotlib.figure.Figure at 0x10a400ac8>"
      ]
     },
     "metadata": {},
     "output_type": "display_data"
    }
   ],
   "source": [
    "plt.grid()\n",
    "plt.bar(range(len(class_names)),class_)\n",
    "plt.xticks(range(len(class_names)), class_names)"
   ]
  },
  {
   "cell_type": "code",
   "execution_count": null,
   "metadata": {},
   "outputs": [],
   "source": []
  },
  {
   "cell_type": "raw",
   "metadata": {},
   "source": []
  }
 ],
 "metadata": {
  "kernelspec": {
   "display_name": "Python 3",
   "language": "python",
   "name": "python3"
  },
  "language_info": {
   "codemirror_mode": {
    "name": "ipython",
    "version": 3
   },
   "file_extension": ".py",
   "mimetype": "text/x-python",
   "name": "python",
   "nbconvert_exporter": "python",
   "pygments_lexer": "ipython3",
   "version": "3.6.2"
  }
 },
 "nbformat": 4,
 "nbformat_minor": 2
}
