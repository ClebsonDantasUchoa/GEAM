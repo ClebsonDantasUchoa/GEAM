{
 "cells": [
  {
   "cell_type": "markdown",
   "metadata": {},
   "source": [
    "# Seguro de automóveis da Suécia"
   ]
  },
  {
   "cell_type": "markdown",
   "metadata": {},
   "source": [
    "## Definição do Problema"
   ]
  },
  {
   "cell_type": "markdown",
   "metadata": {},
   "source": [
    "O dataset é composto por:\n",
    "X = Número de reivindicações\n",
    "Y = total pago por todas as reivindicações em mil coroas suecas.\n",
    "\n",
    "Atributo de predição: y"
   ]
  },
  {
   "cell_type": "markdown",
   "metadata": {},
   "source": [
    "### Importação das bibliotecas"
   ]
  },
  {
   "cell_type": "code",
   "execution_count": 28,
   "metadata": {},
   "outputs": [],
   "source": [
    "%matplotlib inline\n",
    "import pandas as pd\n",
    "import numpy as np\n",
    "from matplotlib import pyplot as plt\n",
    "from sklearn import model_selection\n",
    "from sklearn import linear_model\n",
    "from sklearn.neighbors import KNeighborsClassifier\n",
    "from sklearn import metrics\n",
    "from sklearn import ensemble\n",
    "from sklearn import tree\n",
    "from sklearn import svm\n",
    "from sklearn import neighbors\n",
    "from sklearn import naive_bayes\n",
    "\n",
    "from sklearn import preprocessing"
   ]
  },
  {
   "cell_type": "markdown",
   "metadata": {},
   "source": [
    "### Carregando e definindo as colunas do dataset"
   ]
  },
  {
   "cell_type": "code",
   "execution_count": 29,
   "metadata": {},
   "outputs": [],
   "source": [
    "columns = [\"X\", \"y\"]\n",
    "data = pd.read_csv('dataset.csv',names=columns, sep='\\t')"
   ]
  },
  {
   "cell_type": "markdown",
   "metadata": {},
   "source": [
    "### Visualização e descrição dos dados"
   ]
  },
  {
   "cell_type": "code",
   "execution_count": 30,
   "metadata": {},
   "outputs": [
    {
     "data": {
      "text/html": [
       "<div>\n",
       "<style>\n",
       "    .dataframe thead tr:only-child th {\n",
       "        text-align: right;\n",
       "    }\n",
       "\n",
       "    .dataframe thead th {\n",
       "        text-align: left;\n",
       "    }\n",
       "\n",
       "    .dataframe tbody tr th {\n",
       "        vertical-align: top;\n",
       "    }\n",
       "</style>\n",
       "<table border=\"1\" class=\"dataframe\">\n",
       "  <thead>\n",
       "    <tr style=\"text-align: right;\">\n",
       "      <th></th>\n",
       "      <th>X</th>\n",
       "      <th>y</th>\n",
       "    </tr>\n",
       "  </thead>\n",
       "  <tbody>\n",
       "    <tr>\n",
       "      <th>0</th>\n",
       "      <td>108</td>\n",
       "      <td>392.5</td>\n",
       "    </tr>\n",
       "    <tr>\n",
       "      <th>1</th>\n",
       "      <td>19</td>\n",
       "      <td>46.2</td>\n",
       "    </tr>\n",
       "    <tr>\n",
       "      <th>2</th>\n",
       "      <td>13</td>\n",
       "      <td>15.7</td>\n",
       "    </tr>\n",
       "    <tr>\n",
       "      <th>3</th>\n",
       "      <td>124</td>\n",
       "      <td>422.2</td>\n",
       "    </tr>\n",
       "    <tr>\n",
       "      <th>4</th>\n",
       "      <td>40</td>\n",
       "      <td>119.4</td>\n",
       "    </tr>\n",
       "    <tr>\n",
       "      <th>5</th>\n",
       "      <td>57</td>\n",
       "      <td>170.9</td>\n",
       "    </tr>\n",
       "    <tr>\n",
       "      <th>6</th>\n",
       "      <td>23</td>\n",
       "      <td>56.9</td>\n",
       "    </tr>\n",
       "    <tr>\n",
       "      <th>7</th>\n",
       "      <td>14</td>\n",
       "      <td>77.5</td>\n",
       "    </tr>\n",
       "    <tr>\n",
       "      <th>8</th>\n",
       "      <td>45</td>\n",
       "      <td>214.0</td>\n",
       "    </tr>\n",
       "    <tr>\n",
       "      <th>9</th>\n",
       "      <td>10</td>\n",
       "      <td>65.3</td>\n",
       "    </tr>\n",
       "  </tbody>\n",
       "</table>\n",
       "</div>"
      ],
      "text/plain": [
       "     X      y\n",
       "0  108  392.5\n",
       "1   19   46.2\n",
       "2   13   15.7\n",
       "3  124  422.2\n",
       "4   40  119.4\n",
       "5   57  170.9\n",
       "6   23   56.9\n",
       "7   14   77.5\n",
       "8   45  214.0\n",
       "9   10   65.3"
      ]
     },
     "execution_count": 30,
     "metadata": {},
     "output_type": "execute_result"
    }
   ],
   "source": [
    "data.head(10)"
   ]
  },
  {
   "cell_type": "code",
   "execution_count": 31,
   "metadata": {},
   "outputs": [
    {
     "data": {
      "text/html": [
       "<div>\n",
       "<style>\n",
       "    .dataframe thead tr:only-child th {\n",
       "        text-align: right;\n",
       "    }\n",
       "\n",
       "    .dataframe thead th {\n",
       "        text-align: left;\n",
       "    }\n",
       "\n",
       "    .dataframe tbody tr th {\n",
       "        vertical-align: top;\n",
       "    }\n",
       "</style>\n",
       "<table border=\"1\" class=\"dataframe\">\n",
       "  <thead>\n",
       "    <tr style=\"text-align: right;\">\n",
       "      <th></th>\n",
       "      <th>X</th>\n",
       "      <th>y</th>\n",
       "    </tr>\n",
       "  </thead>\n",
       "  <tbody>\n",
       "    <tr>\n",
       "      <th>count</th>\n",
       "      <td>63.000000</td>\n",
       "      <td>63.000000</td>\n",
       "    </tr>\n",
       "    <tr>\n",
       "      <th>mean</th>\n",
       "      <td>22.904762</td>\n",
       "      <td>98.187302</td>\n",
       "    </tr>\n",
       "    <tr>\n",
       "      <th>std</th>\n",
       "      <td>23.351946</td>\n",
       "      <td>87.327553</td>\n",
       "    </tr>\n",
       "    <tr>\n",
       "      <th>min</th>\n",
       "      <td>0.000000</td>\n",
       "      <td>0.000000</td>\n",
       "    </tr>\n",
       "    <tr>\n",
       "      <th>25%</th>\n",
       "      <td>7.500000</td>\n",
       "      <td>38.850000</td>\n",
       "    </tr>\n",
       "    <tr>\n",
       "      <th>50%</th>\n",
       "      <td>14.000000</td>\n",
       "      <td>73.400000</td>\n",
       "    </tr>\n",
       "    <tr>\n",
       "      <th>75%</th>\n",
       "      <td>29.000000</td>\n",
       "      <td>140.000000</td>\n",
       "    </tr>\n",
       "    <tr>\n",
       "      <th>max</th>\n",
       "      <td>124.000000</td>\n",
       "      <td>422.200000</td>\n",
       "    </tr>\n",
       "  </tbody>\n",
       "</table>\n",
       "</div>"
      ],
      "text/plain": [
       "                X           y\n",
       "count   63.000000   63.000000\n",
       "mean    22.904762   98.187302\n",
       "std     23.351946   87.327553\n",
       "min      0.000000    0.000000\n",
       "25%      7.500000   38.850000\n",
       "50%     14.000000   73.400000\n",
       "75%     29.000000  140.000000\n",
       "max    124.000000  422.200000"
      ]
     },
     "execution_count": 31,
     "metadata": {},
     "output_type": "execute_result"
    }
   ],
   "source": [
    "data.describe()"
   ]
  },
  {
   "cell_type": "code",
   "execution_count": 32,
   "metadata": {},
   "outputs": [
    {
     "name": "stdout",
     "output_type": "stream",
     "text": [
      "(63, 2)\n"
     ]
    }
   ],
   "source": [
    "print(data.shape)"
   ]
  },
  {
   "cell_type": "code",
   "execution_count": 33,
   "metadata": {},
   "outputs": [
    {
     "data": {
      "image/png": "[encoded data removed]",
      "text/plain": [
       "<matplotlib.figure.Figure at 0x1150a6630>"
      ]
     },
     "metadata": {},
     "output_type": "display_data"
    }
   ],
   "source": [
    "plt.scatter(data.values[:,0],data.values[:,1]);"
   ]
  },
  {
   "cell_type": "code",
   "execution_count": 34,
   "metadata": {},
   "outputs": [
    {
     "data": {
      "text/html": [
       "<div>\n",
       "<style>\n",
       "    .dataframe thead tr:only-child th {\n",
       "        text-align: right;\n",
       "    }\n",
       "\n",
       "    .dataframe thead th {\n",
       "        text-align: left;\n",
       "    }\n",
       "\n",
       "    .dataframe tbody tr th {\n",
       "        vertical-align: top;\n",
       "    }\n",
       "</style>\n",
       "<table border=\"1\" class=\"dataframe\">\n",
       "  <thead>\n",
       "    <tr style=\"text-align: right;\">\n",
       "      <th></th>\n",
       "      <th>X</th>\n",
       "      <th>y</th>\n",
       "    </tr>\n",
       "  </thead>\n",
       "  <tbody>\n",
       "    <tr>\n",
       "      <th>X</th>\n",
       "      <td>1.000000</td>\n",
       "      <td>0.912878</td>\n",
       "    </tr>\n",
       "    <tr>\n",
       "      <th>y</th>\n",
       "      <td>0.912878</td>\n",
       "      <td>1.000000</td>\n",
       "    </tr>\n",
       "  </tbody>\n",
       "</table>\n",
       "</div>"
      ],
      "text/plain": [
       "          X         y\n",
       "X  1.000000  0.912878\n",
       "y  0.912878  1.000000"
      ]
     },
     "execution_count": 34,
     "metadata": {},
     "output_type": "execute_result"
    }
   ],
   "source": [
    "data.corr()"
   ]
  },
  {
   "cell_type": "markdown",
   "metadata": {},
   "source": [
    "### Criação do dataset de validação "
   ]
  },
  {
   "cell_type": "code",
   "execution_count": 35,
   "metadata": {},
   "outputs": [
    {
     "name": "stdout",
     "output_type": "stream",
     "text": [
      "[[ 108.   392.5]\n",
      " [  19.    46.2]\n",
      " [  13.    15.7]\n",
      " [ 124.   422.2]\n",
      " [  40.   119.4]\n",
      " [  57.   170.9]\n",
      " [  23.    56.9]\n",
      " [  14.    77.5]\n",
      " [  45.   214. ]\n",
      " [  10.    65.3]\n",
      " [   5.    20.9]\n",
      " [  48.   248.1]\n",
      " [  11.    23.5]\n",
      " [  23.    39.6]\n",
      " [   7.    48.8]\n",
      " [   2.     6.6]\n",
      " [  24.   134.9]\n",
      " [   6.    50.9]\n",
      " [   3.     4.4]\n",
      " [  23.   113. ]\n",
      " [   6.    14.8]\n",
      " [   9.    48.7]\n",
      " [   9.    52.1]\n",
      " [   3.    13.2]\n",
      " [  29.   103.9]\n",
      " [   7.    77.5]\n",
      " [   4.    11.8]\n",
      " [  20.    98.1]\n",
      " [   7.    27.9]\n",
      " [   4.    38.1]\n",
      " [   0.     0. ]\n",
      " [  25.    69.2]\n",
      " [   6.    14.6]\n",
      " [   5.    40.3]\n",
      " [  22.   161.5]\n",
      " [  11.    57.2]\n",
      " [  61.   217.6]\n",
      " [  12.    58.1]\n",
      " [   4.    12.6]\n",
      " [  16.    59.6]\n",
      " [  13.    89.9]\n",
      " [  60.   202.4]\n",
      " [  41.   181.3]\n",
      " [  37.   152.8]\n",
      " [  55.   162.8]\n",
      " [  41.    73.4]\n",
      " [  11.    21.3]\n",
      " [  27.    92.6]\n",
      " [   8.    76.1]\n",
      " [   3.    39.9]\n",
      " [  17.   142.1]\n",
      " [  13.    93. ]\n",
      " [  13.    31.9]\n",
      " [  15.    32.1]\n",
      " [   8.    55.6]\n",
      " [  29.   133.3]\n",
      " [  30.   194.5]\n",
      " [  24.   137.9]\n",
      " [   9.    87.4]\n",
      " [  31.   209.8]\n",
      " [  14.    95.5]\n",
      " [  53.   244.6]\n",
      " [  26.   187.5]]\n"
     ]
    }
   ],
   "source": [
    "dataset = data.values\n",
    "print(dataset)"
   ]
  },
  {
   "cell_type": "code",
   "execution_count": 36,
   "metadata": {},
   "outputs": [
    {
     "data": {
      "text/plain": [
       "array([[  29. ,  103.9],\n",
       "       [  16. ,   59.6],\n",
       "       [  13. ,   93. ],\n",
       "       [  20. ,   98.1],\n",
       "       [  53. ,  244.6],\n",
       "       [  13. ,   15.7],\n",
       "       [   9. ,   48.7],\n",
       "       [  41. ,  181.3],\n",
       "       [  60. ,  202.4],\n",
       "       [  55. ,  162.8],\n",
       "       [   4. ,   12.6],\n",
       "       [  15. ,   32.1],\n",
       "       [  11. ,   57.2],\n",
       "       [   4. ,   11.8],\n",
       "       [  30. ,  194.5],\n",
       "       [   8. ,   76.1],\n",
       "       [ 124. ,  422.2],\n",
       "       [  13. ,   89.9],\n",
       "       [  61. ,  217.6],\n",
       "       [   5. ,   20.9],\n",
       "       [  29. ,  133.3],\n",
       "       [  23. ,  113. ],\n",
       "       [  22. ,  161.5],\n",
       "       [  31. ,  209.8],\n",
       "       [   6. ,   50.9],\n",
       "       [   8. ,   55.6],\n",
       "       [  13. ,   31.9],\n",
       "       [  27. ,   92.6],\n",
       "       [   5. ,   40.3],\n",
       "       [  17. ,  142.1],\n",
       "       [  25. ,   69.2],\n",
       "       [   9. ,   87.4],\n",
       "       [  23. ,   39.6],\n",
       "       [   9. ,   52.1],\n",
       "       [   6. ,   14.6],\n",
       "       [   0. ,    0. ],\n",
       "       [   3. ,   39.9],\n",
       "       [   3. ,   13.2],\n",
       "       [  40. ,  119.4],\n",
       "       [   7. ,   48.8],\n",
       "       [   4. ,   38.1],\n",
       "       [   7. ,   27.9],\n",
       "       [  24. ,  137.9],\n",
       "       [  11. ,   21.3],\n",
       "       [   3. ,    4.4],\n",
       "       [  26. ,  187.5],\n",
       "       [   6. ,   14.8],\n",
       "       [   7. ,   77.5],\n",
       "       [  23. ,   56.9],\n",
       "       [  41. ,   73.4],\n",
       "       [  14. ,   77.5],\n",
       "       [  14. ,   95.5],\n",
       "       [  19. ,   46.2],\n",
       "       [  24. ,  134.9],\n",
       "       [ 108. ,  392.5],\n",
       "       [   2. ,    6.6],\n",
       "       [  57. ,  170.9],\n",
       "       [  48. ,  248.1],\n",
       "       [  10. ,   65.3],\n",
       "       [  45. ,  214. ],\n",
       "       [  11. ,   23.5],\n",
       "       [  37. ,  152.8],\n",
       "       [  12. ,   58.1]])"
      ]
     },
     "execution_count": 36,
     "metadata": {},
     "output_type": "execute_result"
    }
   ],
   "source": [
    "np.random.seed(1)\n",
    "np.random.shuffle(dataset)\n",
    "dataset"
   ]
  },
  {
   "cell_type": "code",
   "execution_count": 37,
   "metadata": {},
   "outputs": [],
   "source": [
    "X = dataset[:,0]\n",
    "X = [ [x] for x in  X]\n",
    "X = np.array(X)\n",
    "y = dataset[:,1]"
   ]
  },
  {
   "cell_type": "code",
   "execution_count": 49,
   "metadata": {},
   "outputs": [
    {
     "name": "stderr",
     "output_type": "stream",
     "text": [
      "/usr/local/lib/python3.6/site-packages/sklearn/preprocessing/label.py:111: DataConversionWarning: A column-vector y was passed when a 1d array was expected. Please change the shape of y to (n_samples, ), for example using ravel().\n",
      "  y = column_or_1d(y, warn=True)\n"
     ]
    }
   ],
   "source": [
    "n_train = int(round(len(y) * 0.70))\n",
    "lab_enc = preprocessing.LabelEncoder()\n",
    "X_train = lab_enc.fit_transform(X[:n_train,:])\n",
    "X_train = X_train.reshape(X_train.size,1)\n",
    "y_train = lab_enc.fit_transform(y[:n_train])\n",
    "X_test = lab_enc.fit_transform(X[n_train:,:])\n",
    "X_test = X_test.reshape(X_test.size,1)\n",
    "y_test = lab_enc.fit_transform(y[n_train:])"
   ]
  },
  {
   "cell_type": "code",
   "execution_count": 50,
   "metadata": {},
   "outputs": [
    {
     "data": {
      "text/plain": [
       "((63, 1), (63,), (44, 1), (44,), (19, 1), (19,))"
      ]
     },
     "execution_count": 50,
     "metadata": {},
     "output_type": "execute_result"
    }
   ],
   "source": [
    "X.shape, y.shape, X_train.shape, y_train.shape, X_test.shape, y_test.shape"
   ]
  },
  {
   "cell_type": "markdown",
   "metadata": {},
   "source": [
    "### Criação dos modelos"
   ]
  },
  {
   "cell_type": "markdown",
   "metadata": {},
   "source": [
    "#### Classificadores utilizados:\n",
    "\n",
    "- DecisionTreeClassifier\n",
    "- SVC\n",
    "- KNN\n",
    "- Logistic Regression\n",
    "- Naive Bayes\n",
    "- SGDClassifier\n",
    "- RandomForest\n",
    "- GradientBoosting"
   ]
  },
  {
   "cell_type": "code",
   "execution_count": 62,
   "metadata": {},
   "outputs": [
    {
     "name": "stderr",
     "output_type": "stream",
     "text": [
      "/usr/local/lib/python3.6/site-packages/sklearn/linear_model/stochastic_gradient.py:84: FutureWarning: max_iter and tol parameters have been added in <class 'sklearn.linear_model.stochastic_gradient.SGDClassifier'> in 0.19. If both are left unset, they default to max_iter=5 and tol=None. If tol is not None, max_iter defaults to max_iter=1000. From 0.21, default max_iter will be 1000, and default tol will be 1e-3.\n",
      "  \"and default tol will be 1e-3.\" % type(self), FutureWarning)\n"
     ]
    }
   ],
   "source": [
    "resultados = {}\n",
    "resultados['DTC'] = { 'model': tree.DecisionTreeClassifier() }\n",
    "resultados['SVC'] = { 'model': svm.SVC() }\n",
    "resultados['KNN'] = { 'model': neighbors.KNeighborsClassifier() }\n",
    "resultados['LOR'] = { 'model': linear_model.LogisticRegression(multi_class='multinomial',solver='newton-cg') }\n",
    "resultados['LR'] = {'model': linear_model.LinearRegression()}\n",
    "resultados['NB'] = { 'model':  naive_bayes.GaussianNB() }\n",
    "resultados['SGD'] = { 'model': linear_model.SGDClassifier() }\n",
    "resultados['RF'] = { 'model': ensemble.RandomForestClassifier() }\n",
    "resultados['GB'] = { 'model': ensemble.GradientBoostingClassifier() }"
   ]
  },
  {
   "cell_type": "code",
   "execution_count": 63,
   "metadata": {},
   "outputs": [
    {
     "name": "stdout",
     "output_type": "stream",
     "text": [
      "processando DTC...\n",
      "processando SVC...\n",
      "processando KNN...\n",
      "processando LOR...\n",
      "processando LR...\n",
      "processando NB...\n",
      "processando SGD...\n",
      "processando RF...\n",
      "processando GB...\n"
     ]
    }
   ],
   "source": [
    "for key in resultados:\n",
    "    print('processando {}...'.format(key))\n",
    "    resultados[key]['model'].fit(X_train, y_train)\n",
    "    resultados[key]['y_pred'] = resultados[key]['model'].predict(X_test)\n",
    "    resultados[key]['mse'] = metrics.mean_squared_error(y_test, resultados[key]['y_pred'])\n",
    "    resultados[key]['rmse'] = np.sqrt(resultados[key]['mse'])\n",
    "    resultados[key]['mae'] = metrics.mean_absolute_error(y_test, resultados[key]['y_pred'])"
   ]
  },
  {
   "cell_type": "code",
   "execution_count": 64,
   "metadata": {},
   "outputs": [
    {
     "data": {
      "text/html": [
       "<div>\n",
       "<style>\n",
       "    .dataframe thead tr:only-child th {\n",
       "        text-align: right;\n",
       "    }\n",
       "\n",
       "    .dataframe thead th {\n",
       "        text-align: left;\n",
       "    }\n",
       "\n",
       "    .dataframe tbody tr th {\n",
       "        vertical-align: top;\n",
       "    }\n",
       "</style>\n",
       "<table border=\"1\" class=\"dataframe\">\n",
       "  <thead>\n",
       "    <tr style=\"text-align: right;\">\n",
       "      <th></th>\n",
       "      <th>y_pred</th>\n",
       "      <th>mse</th>\n",
       "      <th>rmse</th>\n",
       "      <th>mae</th>\n",
       "    </tr>\n",
       "  </thead>\n",
       "  <tbody>\n",
       "    <tr>\n",
       "      <th>DTC</th>\n",
       "      <td>[3, 21, 1, 6, 5, 28, 15, 15, 7, 10, 22, 0, 33,...</td>\n",
       "      <td>108.842</td>\n",
       "      <td>10.4327</td>\n",
       "      <td>7.47368</td>\n",
       "    </tr>\n",
       "    <tr>\n",
       "      <th>GB</th>\n",
       "      <td>[13, 21, 11, 14, 27, 28, 24, 24, 20, 10, 22, 0...</td>\n",
       "      <td>207.895</td>\n",
       "      <td>14.4186</td>\n",
       "      <td>12.8421</td>\n",
       "    </tr>\n",
       "    <tr>\n",
       "      <th>KNN</th>\n",
       "      <td>[0, 10, 1, 1, 5, 21, 15, 15, 5, 5, 22, 0, 12, ...</td>\n",
       "      <td>26.0526</td>\n",
       "      <td>5.10418</td>\n",
       "      <td>3.84211</td>\n",
       "    </tr>\n",
       "    <tr>\n",
       "      <th>LOR</th>\n",
       "      <td>[0, 21, 3, 1, 5, 28, 24, 24, 7, 10, 22, 0, 33,...</td>\n",
       "      <td>148.263</td>\n",
       "      <td>12.1763</td>\n",
       "      <td>9.42105</td>\n",
       "    </tr>\n",
       "    <tr>\n",
       "      <th>LR</th>\n",
       "      <td>[6.98352737973, 20.6314930911, 8.34832395087, ...</td>\n",
       "      <td>87.3395</td>\n",
       "      <td>9.34556</td>\n",
       "      <td>8.58544</td>\n",
       "    </tr>\n",
       "    <tr>\n",
       "      <th>NB</th>\n",
       "      <td>[3, 21, 1, 6, 5, 28, 15, 15, 7, 10, 22, 0, 33,...</td>\n",
       "      <td>108.842</td>\n",
       "      <td>10.4327</td>\n",
       "      <td>7.47368</td>\n",
       "    </tr>\n",
       "    <tr>\n",
       "      <th>RF</th>\n",
       "      <td>[3, 21, 2, 6, 5, 28, 15, 15, 7, 10, 22, 0, 33,...</td>\n",
       "      <td>124.579</td>\n",
       "      <td>11.1615</td>\n",
       "      <td>8.15789</td>\n",
       "    </tr>\n",
       "    <tr>\n",
       "      <th>SGD</th>\n",
       "      <td>[41, 41, 41, 41, 41, 41, 41, 41, 41, 41, 41, 0...</td>\n",
       "      <td>995.895</td>\n",
       "      <td>31.5578</td>\n",
       "      <td>30.4211</td>\n",
       "    </tr>\n",
       "    <tr>\n",
       "      <th>SVC</th>\n",
       "      <td>[13, 21, 11, 14, 27, 28, 24, 24, 20, 10, 22, 0...</td>\n",
       "      <td>207.895</td>\n",
       "      <td>14.4186</td>\n",
       "      <td>12.8421</td>\n",
       "    </tr>\n",
       "  </tbody>\n",
       "</table>\n",
       "</div>"
      ],
      "text/plain": [
       "                                                y_pred      mse     rmse  \\\n",
       "DTC  [3, 21, 1, 6, 5, 28, 15, 15, 7, 10, 22, 0, 33,...  108.842  10.4327   \n",
       "GB   [13, 21, 11, 14, 27, 28, 24, 24, 20, 10, 22, 0...  207.895  14.4186   \n",
       "KNN  [0, 10, 1, 1, 5, 21, 15, 15, 5, 5, 22, 0, 12, ...  26.0526  5.10418   \n",
       "LOR  [0, 21, 3, 1, 5, 28, 24, 24, 7, 10, 22, 0, 33,...  148.263  12.1763   \n",
       "LR   [6.98352737973, 20.6314930911, 8.34832395087, ...  87.3395  9.34556   \n",
       "NB   [3, 21, 1, 6, 5, 28, 15, 15, 7, 10, 22, 0, 33,...  108.842  10.4327   \n",
       "RF   [3, 21, 2, 6, 5, 28, 15, 15, 7, 10, 22, 0, 33,...  124.579  11.1615   \n",
       "SGD  [41, 41, 41, 41, 41, 41, 41, 41, 41, 41, 41, 0...  995.895  31.5578   \n",
       "SVC  [13, 21, 11, 14, 27, 28, 24, 24, 20, 10, 22, 0...  207.895  14.4186   \n",
       "\n",
       "         mae  \n",
       "DTC  7.47368  \n",
       "GB   12.8421  \n",
       "KNN  3.84211  \n",
       "LOR  9.42105  \n",
       "LR   8.58544  \n",
       "NB   7.47368  \n",
       "RF   8.15789  \n",
       "SGD  30.4211  \n",
       "SVC  12.8421  "
      ]
     },
     "execution_count": 64,
     "metadata": {},
     "output_type": "execute_result"
    }
   ],
   "source": [
    "df = pd.DataFrame(resultados)\n",
    "df.T[['y_pred','mse','rmse','mae']]"
   ]
  },
  {
   "cell_type": "code",
   "execution_count": 65,
   "metadata": {},
   "outputs": [
    {
     "data": {
      "text/html": [
       "<div>\n",
       "<style>\n",
       "    .dataframe thead tr:only-child th {\n",
       "        text-align: right;\n",
       "    }\n",
       "\n",
       "    .dataframe thead th {\n",
       "        text-align: left;\n",
       "    }\n",
       "\n",
       "    .dataframe tbody tr th {\n",
       "        vertical-align: top;\n",
       "    }\n",
       "</style>\n",
       "<table border=\"1\" class=\"dataframe\">\n",
       "  <thead>\n",
       "    <tr style=\"text-align: right;\">\n",
       "      <th></th>\n",
       "      <th>mse</th>\n",
       "    </tr>\n",
       "  </thead>\n",
       "  <tbody>\n",
       "    <tr>\n",
       "      <th>DTC</th>\n",
       "      <td>108.842</td>\n",
       "    </tr>\n",
       "    <tr>\n",
       "      <th>GB</th>\n",
       "      <td>207.895</td>\n",
       "    </tr>\n",
       "    <tr>\n",
       "      <th>KNN</th>\n",
       "      <td>26.0526</td>\n",
       "    </tr>\n",
       "    <tr>\n",
       "      <th>LOR</th>\n",
       "      <td>148.263</td>\n",
       "    </tr>\n",
       "    <tr>\n",
       "      <th>LR</th>\n",
       "      <td>87.3395</td>\n",
       "    </tr>\n",
       "    <tr>\n",
       "      <th>NB</th>\n",
       "      <td>108.842</td>\n",
       "    </tr>\n",
       "    <tr>\n",
       "      <th>RF</th>\n",
       "      <td>124.579</td>\n",
       "    </tr>\n",
       "    <tr>\n",
       "      <th>SGD</th>\n",
       "      <td>995.895</td>\n",
       "    </tr>\n",
       "    <tr>\n",
       "      <th>SVC</th>\n",
       "      <td>207.895</td>\n",
       "    </tr>\n",
       "  </tbody>\n",
       "</table>\n",
       "</div>"
      ],
      "text/plain": [
       "         mse\n",
       "DTC  108.842\n",
       "GB   207.895\n",
       "KNN  26.0526\n",
       "LOR  148.263\n",
       "LR   87.3395\n",
       "NB   108.842\n",
       "RF   124.579\n",
       "SGD  995.895\n",
       "SVC  207.895"
      ]
     },
     "execution_count": 65,
     "metadata": {},
     "output_type": "execute_result"
    }
   ],
   "source": [
    "df_T = df.transpose()\n",
    "df_T = df_T[ ['mse'] ]\n",
    "df_T"
   ]
  },
  {
   "cell_type": "code",
   "execution_count": 66,
   "metadata": {},
   "outputs": [
    {
     "data": {
      "image/png": "[encoded data removed]",
      "text/plain": [
       "<matplotlib.figure.Figure at 0x115871cf8>"
      ]
     },
     "metadata": {},
     "output_type": "display_data"
    }
   ],
   "source": [
    "df_T.plot(kind='bar', grid=True);"
   ]
  },
  {
   "cell_type": "code",
   "execution_count": null,
   "metadata": {},
   "outputs": [],
   "source": []
  }
 ],
 "metadata": {
  "kernelspec": {
   "display_name": "Python 3",
   "language": "python",
   "name": "python3"
  },
  "language_info": {
   "codemirror_mode": {
    "name": "ipython",
    "version": 3
   },
   "file_extension": ".py",
   "mimetype": "text/x-python",
   "name": "python",
   "nbconvert_exporter": "python",
   "pygments_lexer": "ipython3",
   "version": "3.6.2"
  }
 },
 "nbformat": 4,
 "nbformat_minor": 2
}
