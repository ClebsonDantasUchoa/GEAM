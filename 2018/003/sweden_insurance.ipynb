{
 "cells": [
  {
   "cell_type": "markdown",
   "metadata": {},
   "source": [
    "# Seguro de automóveis da Suécia"
   ]
  },
  {
   "cell_type": "markdown",
   "metadata": {},
   "source": [
    "## Definição do Problema"
   ]
  },
  {
   "cell_type": "markdown",
   "metadata": {},
   "source": [
    "O dataset é composto por:\n",
    "X = Número de reivindicações\n",
    "Y = total pago por todas as reivindicações em mil coroas suecas.\n",
    "\n",
    "link do dataset: https://www.kaggle.com/sunmarkil/auto-insurance-in-sweden-small-dataset/data\n",
    "\n",
    "Atributo de predição: y"
   ]
  },
  {
   "cell_type": "markdown",
   "metadata": {},
   "source": [
    "### Importação das bibliotecas"
   ]
  },
  {
   "cell_type": "code",
   "execution_count": 1,
   "metadata": {},
   "outputs": [],
   "source": [
    "%matplotlib inline\n",
    "import pandas as pd\n",
    "import numpy as np\n",
    "from matplotlib import pyplot as plt\n",
    "from sklearn import linear_model\n",
    "from sklearn import metrics\n",
    "from sklearn import ensemble\n",
    "from sklearn import svm\n",
    "from sklearn import tree\n",
    "from sklearn import model_selection \n",
    "from sklearn import neighbors\n",
    "import warnings\n",
    "warnings.filterwarnings(action=\"ignore\", module=\"scipy\", message=\"^internal gelsd\")"
   ]
  },
  {
   "cell_type": "markdown",
   "metadata": {},
   "source": [
    "### Carregando e definindo as colunas do dataset"
   ]
  },
  {
   "cell_type": "code",
   "execution_count": 2,
   "metadata": {},
   "outputs": [],
   "source": [
    "columns = [\"X\", \"y\"]\n",
    "data = pd.read_csv('insurance.csv',names=columns, sep='\\t')"
   ]
  },
  {
   "cell_type": "markdown",
   "metadata": {},
   "source": [
    "### Visualização e descrição dos dados"
   ]
  },
  {
   "cell_type": "code",
   "execution_count": 3,
   "metadata": {},
   "outputs": [
    {
     "data": {
      "text/html": [
       "<div>\n",
       "<style>\n",
       "    .dataframe thead tr:only-child th {\n",
       "        text-align: right;\n",
       "    }\n",
       "\n",
       "    .dataframe thead th {\n",
       "        text-align: left;\n",
       "    }\n",
       "\n",
       "    .dataframe tbody tr th {\n",
       "        vertical-align: top;\n",
       "    }\n",
       "</style>\n",
       "<table border=\"1\" class=\"dataframe\">\n",
       "  <thead>\n",
       "    <tr style=\"text-align: right;\">\n",
       "      <th></th>\n",
       "      <th>X</th>\n",
       "      <th>y</th>\n",
       "    </tr>\n",
       "  </thead>\n",
       "  <tbody>\n",
       "    <tr>\n",
       "      <th>0</th>\n",
       "      <td>108</td>\n",
       "      <td>392.5</td>\n",
       "    </tr>\n",
       "    <tr>\n",
       "      <th>1</th>\n",
       "      <td>19</td>\n",
       "      <td>46.2</td>\n",
       "    </tr>\n",
       "    <tr>\n",
       "      <th>2</th>\n",
       "      <td>13</td>\n",
       "      <td>15.7</td>\n",
       "    </tr>\n",
       "    <tr>\n",
       "      <th>3</th>\n",
       "      <td>124</td>\n",
       "      <td>422.2</td>\n",
       "    </tr>\n",
       "    <tr>\n",
       "      <th>4</th>\n",
       "      <td>40</td>\n",
       "      <td>119.4</td>\n",
       "    </tr>\n",
       "  </tbody>\n",
       "</table>\n",
       "</div>"
      ],
      "text/plain": [
       "     X      y\n",
       "0  108  392.5\n",
       "1   19   46.2\n",
       "2   13   15.7\n",
       "3  124  422.2\n",
       "4   40  119.4"
      ]
     },
     "execution_count": 3,
     "metadata": {},
     "output_type": "execute_result"
    }
   ],
   "source": [
    "data.head()"
   ]
  },
  {
   "cell_type": "code",
   "execution_count": 4,
   "metadata": {},
   "outputs": [
    {
     "data": {
      "text/html": [
       "<div>\n",
       "<style>\n",
       "    .dataframe thead tr:only-child th {\n",
       "        text-align: right;\n",
       "    }\n",
       "\n",
       "    .dataframe thead th {\n",
       "        text-align: left;\n",
       "    }\n",
       "\n",
       "    .dataframe tbody tr th {\n",
       "        vertical-align: top;\n",
       "    }\n",
       "</style>\n",
       "<table border=\"1\" class=\"dataframe\">\n",
       "  <thead>\n",
       "    <tr style=\"text-align: right;\">\n",
       "      <th></th>\n",
       "      <th>X</th>\n",
       "      <th>y</th>\n",
       "    </tr>\n",
       "  </thead>\n",
       "  <tbody>\n",
       "    <tr>\n",
       "      <th>count</th>\n",
       "      <td>63.000000</td>\n",
       "      <td>63.000000</td>\n",
       "    </tr>\n",
       "    <tr>\n",
       "      <th>mean</th>\n",
       "      <td>22.904762</td>\n",
       "      <td>98.187302</td>\n",
       "    </tr>\n",
       "    <tr>\n",
       "      <th>std</th>\n",
       "      <td>23.351946</td>\n",
       "      <td>87.327553</td>\n",
       "    </tr>\n",
       "    <tr>\n",
       "      <th>min</th>\n",
       "      <td>0.000000</td>\n",
       "      <td>0.000000</td>\n",
       "    </tr>\n",
       "    <tr>\n",
       "      <th>25%</th>\n",
       "      <td>7.500000</td>\n",
       "      <td>38.850000</td>\n",
       "    </tr>\n",
       "    <tr>\n",
       "      <th>50%</th>\n",
       "      <td>14.000000</td>\n",
       "      <td>73.400000</td>\n",
       "    </tr>\n",
       "    <tr>\n",
       "      <th>75%</th>\n",
       "      <td>29.000000</td>\n",
       "      <td>140.000000</td>\n",
       "    </tr>\n",
       "    <tr>\n",
       "      <th>max</th>\n",
       "      <td>124.000000</td>\n",
       "      <td>422.200000</td>\n",
       "    </tr>\n",
       "  </tbody>\n",
       "</table>\n",
       "</div>"
      ],
      "text/plain": [
       "                X           y\n",
       "count   63.000000   63.000000\n",
       "mean    22.904762   98.187302\n",
       "std     23.351946   87.327553\n",
       "min      0.000000    0.000000\n",
       "25%      7.500000   38.850000\n",
       "50%     14.000000   73.400000\n",
       "75%     29.000000  140.000000\n",
       "max    124.000000  422.200000"
      ]
     },
     "execution_count": 4,
     "metadata": {},
     "output_type": "execute_result"
    }
   ],
   "source": [
    "data.describe()"
   ]
  },
  {
   "cell_type": "code",
   "execution_count": 5,
   "metadata": {},
   "outputs": [
    {
     "name": "stdout",
     "output_type": "stream",
     "text": [
      "(63, 2)\n"
     ]
    }
   ],
   "source": [
    "print(data.shape)"
   ]
  },
  {
   "cell_type": "code",
   "execution_count": 6,
   "metadata": {},
   "outputs": [
    {
     "data": {
      "image/png": "[encoded data removed]",
      "text/plain": [
       "<matplotlib.figure.Figure at 0x108ae3eb8>"
      ]
     },
     "metadata": {},
     "output_type": "display_data"
    }
   ],
   "source": [
    "plt.scatter(data.values[:,0],data.values[:,1]);"
   ]
  },
  {
   "cell_type": "code",
   "execution_count": 7,
   "metadata": {},
   "outputs": [
    {
     "data": {
      "text/html": [
       "<div>\n",
       "<style>\n",
       "    .dataframe thead tr:only-child th {\n",
       "        text-align: right;\n",
       "    }\n",
       "\n",
       "    .dataframe thead th {\n",
       "        text-align: left;\n",
       "    }\n",
       "\n",
       "    .dataframe tbody tr th {\n",
       "        vertical-align: top;\n",
       "    }\n",
       "</style>\n",
       "<table border=\"1\" class=\"dataframe\">\n",
       "  <thead>\n",
       "    <tr style=\"text-align: right;\">\n",
       "      <th></th>\n",
       "      <th>X</th>\n",
       "      <th>y</th>\n",
       "    </tr>\n",
       "  </thead>\n",
       "  <tbody>\n",
       "    <tr>\n",
       "      <th>X</th>\n",
       "      <td>1.000000</td>\n",
       "      <td>0.912878</td>\n",
       "    </tr>\n",
       "    <tr>\n",
       "      <th>y</th>\n",
       "      <td>0.912878</td>\n",
       "      <td>1.000000</td>\n",
       "    </tr>\n",
       "  </tbody>\n",
       "</table>\n",
       "</div>"
      ],
      "text/plain": [
       "          X         y\n",
       "X  1.000000  0.912878\n",
       "y  0.912878  1.000000"
      ]
     },
     "execution_count": 7,
     "metadata": {},
     "output_type": "execute_result"
    }
   ],
   "source": [
    "data.corr()"
   ]
  },
  {
   "cell_type": "markdown",
   "metadata": {},
   "source": [
    "### Criação do dataset de validação "
   ]
  },
  {
   "cell_type": "code",
   "execution_count": 8,
   "metadata": {},
   "outputs": [
    {
     "name": "stdout",
     "output_type": "stream",
     "text": [
      "[[108.  392.5]\n",
      " [ 19.   46.2]\n",
      " [ 13.   15.7]\n",
      " [124.  422.2]\n",
      " [ 40.  119.4]\n",
      " [ 57.  170.9]\n",
      " [ 23.   56.9]\n",
      " [ 14.   77.5]\n",
      " [ 45.  214. ]\n",
      " [ 10.   65.3]\n",
      " [  5.   20.9]\n",
      " [ 48.  248.1]\n",
      " [ 11.   23.5]\n",
      " [ 23.   39.6]\n",
      " [  7.   48.8]\n",
      " [  2.    6.6]\n",
      " [ 24.  134.9]\n",
      " [  6.   50.9]\n",
      " [  3.    4.4]\n",
      " [ 23.  113. ]\n",
      " [  6.   14.8]\n",
      " [  9.   48.7]\n",
      " [  9.   52.1]\n",
      " [  3.   13.2]\n",
      " [ 29.  103.9]\n",
      " [  7.   77.5]\n",
      " [  4.   11.8]\n",
      " [ 20.   98.1]\n",
      " [  7.   27.9]\n",
      " [  4.   38.1]\n",
      " [  0.    0. ]\n",
      " [ 25.   69.2]\n",
      " [  6.   14.6]\n",
      " [  5.   40.3]\n",
      " [ 22.  161.5]\n",
      " [ 11.   57.2]\n",
      " [ 61.  217.6]\n",
      " [ 12.   58.1]\n",
      " [  4.   12.6]\n",
      " [ 16.   59.6]\n",
      " [ 13.   89.9]\n",
      " [ 60.  202.4]\n",
      " [ 41.  181.3]\n",
      " [ 37.  152.8]\n",
      " [ 55.  162.8]\n",
      " [ 41.   73.4]\n",
      " [ 11.   21.3]\n",
      " [ 27.   92.6]\n",
      " [  8.   76.1]\n",
      " [  3.   39.9]\n",
      " [ 17.  142.1]\n",
      " [ 13.   93. ]\n",
      " [ 13.   31.9]\n",
      " [ 15.   32.1]\n",
      " [  8.   55.6]\n",
      " [ 29.  133.3]\n",
      " [ 30.  194.5]\n",
      " [ 24.  137.9]\n",
      " [  9.   87.4]\n",
      " [ 31.  209.8]\n",
      " [ 14.   95.5]\n",
      " [ 53.  244.6]\n",
      " [ 26.  187.5]]\n"
     ]
    }
   ],
   "source": [
    "dataset = data.values\n",
    "print(dataset)"
   ]
  },
  {
   "cell_type": "code",
   "execution_count": 9,
   "metadata": {},
   "outputs": [
    {
     "name": "stdout",
     "output_type": "stream",
     "text": [
      "(63, 1) (63,)\n"
     ]
    }
   ],
   "source": [
    "X = dataset[:,0:-1]\n",
    "y = dataset[:,-1]\n",
    "print (X.shape, y.shape)"
   ]
  },
  {
   "cell_type": "code",
   "execution_count": 10,
   "metadata": {},
   "outputs": [
    {
     "data": {
      "text/plain": [
       "((63, 1), (63,), (47, 1), (47,), (16, 1), (16,))"
      ]
     },
     "execution_count": 10,
     "metadata": {},
     "output_type": "execute_result"
    }
   ],
   "source": [
    "X_train, X_test, y_train, y_test = model_selection.train_test_split(X,y,\n",
    "                                                                    test_size=0.25, \n",
    "                                                                    shuffle = True, \n",
    "                                                                    random_state=42)\n",
    "X.shape, y.shape, X_train.shape, y_train.shape, X_test.shape, y_test.shape"
   ]
  },
  {
   "cell_type": "markdown",
   "metadata": {},
   "source": [
    "### Criação dos modelos"
   ]
  },
  {
   "cell_type": "markdown",
   "metadata": {},
   "source": [
    "#### Classificadores utilizados:\n",
    "\n",
    "- Linear Regression\n",
    "- Linear SVR\n",
    "- SVR - Epsilon-Support Vector Regression\n",
    "- Random Forest Regressor\n",
    "- Gradient Boosting Regressor\n",
    "- Extra Tree Regressor"
   ]
  },
  {
   "cell_type": "code",
   "execution_count": 21,
   "metadata": {
    "scrolled": true
   },
   "outputs": [
    {
     "data": {
      "text/plain": [
       "array([420.40162508,  28.43173107,  62.51237263, 214.80950217,\n",
       "        86.56460718,  28.43173107, 123.04477551,  42.81509317,\n",
       "        86.56460718,  38.49909838, 201.58578566,  62.51237263,\n",
       "        75.44344034,   1.66438566,  61.66775596, 204.42720287,\n",
       "         7.47080794,  93.27260833,  21.17917159, 103.79718942,\n",
       "       128.71550029, 245.23807271,  28.43173107, 192.25632124,\n",
       "       166.43302769,  54.40529182,  21.17917159,  98.77018746,\n",
       "        54.09137905,  61.66775596,  49.44151018, 135.06643701,\n",
       "        56.44749916,  42.81509317,   9.32898604,  49.44151018,\n",
       "        28.43173107,  61.66775596,   9.32898604, 177.78001487,\n",
       "        28.43173107,  68.33831922, 128.71550029,  38.22997064,\n",
       "        38.22997064,  49.44151018,  21.17917159])"
      ]
     },
     "execution_count": 21,
     "metadata": {},
     "output_type": "execute_result"
    }
   ],
   "source": [
    "modelo = ensemble.GradientBoostingRegressor()\n",
    "modelo.fit(X_train,y_train)\n",
    "modelo.predict(X_train)"
   ]
  },
  {
   "cell_type": "code",
   "execution_count": 22,
   "metadata": {},
   "outputs": [
    {
     "data": {
      "text/plain": [
       "array([422.2,  50.9,  76.1, 214. ,  56.9,  40.3, 119.4,  21.3, 113. ,\n",
       "        32.1, 202.4,  55.6,  69.2,   0. ,  87.4, 209.8,   6.6,  98.1,\n",
       "        11.8, 103.9,  73.4, 248.1,  14.6, 194.5, 162.8,  58.1,  38.1,\n",
       "        92.6,  46.2,  48.7,  15.7, 142.1,  59.6,  57.2,  13.2,  31.9,\n",
       "        20.9,  52.1,   4.4, 187.5,  14.8,  77.5, 181.3,  48.8,  27.9,\n",
       "        93. ,  12.6])"
      ]
     },
     "execution_count": 22,
     "metadata": {},
     "output_type": "execute_result"
    }
   ],
   "source": [
    "y_train"
   ]
  },
  {
   "cell_type": "code",
   "execution_count": 21,
   "metadata": {},
   "outputs": [],
   "source": [
    "resultados = {}\n",
    "resultados['LR'] = { 'model': linear_model.LinearRegression() }\n",
    "resultados['LSVR'] = { 'model': svm.LinearSVR() }\n",
    "resultados['SVR'] = { 'model': svm.SVR() }\n",
    "resultados['RFR'] = { 'model': ensemble.RandomForestRegressor() }\n",
    "resultados['GBR'] = {'model': ensemble.GradientBoostingRegressor()}\n",
    "resultados['ETR'] = {'model': tree.ExtraTreeRegressor()}\n",
    "resultados['KNN'] = {'model': neighbors.KNeighborsRegressor(n_neighbors=3)}"
   ]
  },
  {
   "cell_type": "code",
   "execution_count": 22,
   "metadata": {},
   "outputs": [
    {
     "name": "stdout",
     "output_type": "stream",
     "text": [
      "processando LR...\n",
      "processando LSVR...\n",
      "processando SVR...\n",
      "processando RFR...\n",
      "processando GBR...\n",
      "processando ETR...\n",
      "processando KNN...\n"
     ]
    }
   ],
   "source": [
    "for key in resultados:\n",
    "    print('processando {}...'.format(key))\n",
    "    resultados[key]['model'].fit(X_train, y_train)\n",
    "    resultados[key]['y_pred'] = resultados[key]['model'].predict(X_test)\n",
    "    resultados[key]['mse'] = metrics.mean_squared_error(y_test, resultados[key]['y_pred'])\n",
    "    resultados[key]['rmse'] = np.sqrt(resultados[key]['mse'])\n",
    "    resultados[key]['mae'] = metrics.mean_absolute_error(y_test, resultados[key]['y_pred'])"
   ]
  },
  {
   "cell_type": "code",
   "execution_count": 23,
   "metadata": {},
   "outputs": [
    {
     "data": {
      "text/html": [
       "<div>\n",
       "<style>\n",
       "    .dataframe thead tr:only-child th {\n",
       "        text-align: right;\n",
       "    }\n",
       "\n",
       "    .dataframe thead th {\n",
       "        text-align: left;\n",
       "    }\n",
       "\n",
       "    .dataframe tbody tr th {\n",
       "        vertical-align: top;\n",
       "    }\n",
       "</style>\n",
       "<table border=\"1\" class=\"dataframe\">\n",
       "  <thead>\n",
       "    <tr style=\"text-align: right;\">\n",
       "      <th></th>\n",
       "      <th>y_pred</th>\n",
       "      <th>mse</th>\n",
       "      <th>rmse</th>\n",
       "      <th>mae</th>\n",
       "    </tr>\n",
       "  </thead>\n",
       "  <tbody>\n",
       "    <tr>\n",
       "      <th>ETR</th>\n",
       "      <td>[162.8, 84.95, 422.2, 209.8, 162.8, 202.4, 84....</td>\n",
       "      <td>1925.06</td>\n",
       "      <td>43.8756</td>\n",
       "      <td>38.6927</td>\n",
       "    </tr>\n",
       "    <tr>\n",
       "      <th>GBR</th>\n",
       "      <td>[166.43302769178234, 86.56460718092951, 420.40...</td>\n",
       "      <td>1684.44</td>\n",
       "      <td>41.0419</td>\n",
       "      <td>35.4867</td>\n",
       "    </tr>\n",
       "    <tr>\n",
       "      <th>KNN</th>\n",
       "      <td>[204.4333333333333, 79.7, 262.4666666666667, 1...</td>\n",
       "      <td>2674.27</td>\n",
       "      <td>51.7134</td>\n",
       "      <td>44.075</td>\n",
       "    </tr>\n",
       "    <tr>\n",
       "      <th>LR</th>\n",
       "      <td>[198.3316951845612, 98.5410860287601, 387.5897...</td>\n",
       "      <td>1232.85</td>\n",
       "      <td>35.1119</td>\n",
       "      <td>30.3545</td>\n",
       "    </tr>\n",
       "    <tr>\n",
       "      <th>LSVR</th>\n",
       "      <td>[186.67212705500202, 86.65580686354129, 376.35...</td>\n",
       "      <td>1693.61</td>\n",
       "      <td>41.1535</td>\n",
       "      <td>36.7142</td>\n",
       "    </tr>\n",
       "    <tr>\n",
       "      <th>RFR</th>\n",
       "      <td>[179.25, 99.70750000000001, 352.3, 134.1650000...</td>\n",
       "      <td>1543.78</td>\n",
       "      <td>39.291</td>\n",
       "      <td>33.7364</td>\n",
       "    </tr>\n",
       "    <tr>\n",
       "      <th>SVR</th>\n",
       "      <td>[57.761475001193524, 58.129477964690345, 57.74...</td>\n",
       "      <td>14217.2</td>\n",
       "      <td>119.236</td>\n",
       "      <td>86.932</td>\n",
       "    </tr>\n",
       "  </tbody>\n",
       "</table>\n",
       "</div>"
      ],
      "text/plain": [
       "                                                 y_pred      mse     rmse  \\\n",
       "ETR   [162.8, 84.95, 422.2, 209.8, 162.8, 202.4, 84....  1925.06  43.8756   \n",
       "GBR   [166.43302769178234, 86.56460718092951, 420.40...  1684.44  41.0419   \n",
       "KNN   [204.4333333333333, 79.7, 262.4666666666667, 1...  2674.27  51.7134   \n",
       "LR    [198.3316951845612, 98.5410860287601, 387.5897...  1232.85  35.1119   \n",
       "LSVR  [186.67212705500202, 86.65580686354129, 376.35...  1693.61  41.1535   \n",
       "RFR   [179.25, 99.70750000000001, 352.3, 134.1650000...  1543.78   39.291   \n",
       "SVR   [57.761475001193524, 58.129477964690345, 57.74...  14217.2  119.236   \n",
       "\n",
       "          mae  \n",
       "ETR   38.6927  \n",
       "GBR   35.4867  \n",
       "KNN    44.075  \n",
       "LR    30.3545  \n",
       "LSVR  36.7142  \n",
       "RFR   33.7364  \n",
       "SVR    86.932  "
      ]
     },
     "execution_count": 23,
     "metadata": {},
     "output_type": "execute_result"
    }
   ],
   "source": [
    "df = pd.DataFrame(resultados)\n",
    "df.T[['y_pred','mse','rmse','mae']]"
   ]
  },
  {
   "cell_type": "code",
   "execution_count": 24,
   "metadata": {},
   "outputs": [
    {
     "data": {
      "text/html": [
       "<div>\n",
       "<style>\n",
       "    .dataframe thead tr:only-child th {\n",
       "        text-align: right;\n",
       "    }\n",
       "\n",
       "    .dataframe thead th {\n",
       "        text-align: left;\n",
       "    }\n",
       "\n",
       "    .dataframe tbody tr th {\n",
       "        vertical-align: top;\n",
       "    }\n",
       "</style>\n",
       "<table border=\"1\" class=\"dataframe\">\n",
       "  <thead>\n",
       "    <tr style=\"text-align: right;\">\n",
       "      <th></th>\n",
       "      <th>rmse</th>\n",
       "      <th>mae</th>\n",
       "    </tr>\n",
       "  </thead>\n",
       "  <tbody>\n",
       "    <tr>\n",
       "      <th>ETR</th>\n",
       "      <td>43.8756</td>\n",
       "      <td>38.6927</td>\n",
       "    </tr>\n",
       "    <tr>\n",
       "      <th>GBR</th>\n",
       "      <td>41.0419</td>\n",
       "      <td>35.4867</td>\n",
       "    </tr>\n",
       "    <tr>\n",
       "      <th>KNN</th>\n",
       "      <td>51.7134</td>\n",
       "      <td>44.075</td>\n",
       "    </tr>\n",
       "    <tr>\n",
       "      <th>LR</th>\n",
       "      <td>35.1119</td>\n",
       "      <td>30.3545</td>\n",
       "    </tr>\n",
       "    <tr>\n",
       "      <th>LSVR</th>\n",
       "      <td>41.1535</td>\n",
       "      <td>36.7142</td>\n",
       "    </tr>\n",
       "    <tr>\n",
       "      <th>RFR</th>\n",
       "      <td>39.291</td>\n",
       "      <td>33.7364</td>\n",
       "    </tr>\n",
       "    <tr>\n",
       "      <th>SVR</th>\n",
       "      <td>119.236</td>\n",
       "      <td>86.932</td>\n",
       "    </tr>\n",
       "  </tbody>\n",
       "</table>\n",
       "</div>"
      ],
      "text/plain": [
       "         rmse      mae\n",
       "ETR   43.8756  38.6927\n",
       "GBR   41.0419  35.4867\n",
       "KNN   51.7134   44.075\n",
       "LR    35.1119  30.3545\n",
       "LSVR  41.1535  36.7142\n",
       "RFR    39.291  33.7364\n",
       "SVR   119.236   86.932"
      ]
     },
     "execution_count": 24,
     "metadata": {},
     "output_type": "execute_result"
    }
   ],
   "source": [
    "df_T = df.transpose()\n",
    "df_T = df_T[ ['rmse','mae'] ]\n",
    "df_T"
   ]
  },
  {
   "cell_type": "code",
   "execution_count": 25,
   "metadata": {},
   "outputs": [
    {
     "data": {
      "image/png": "[encoded data removed]",
      "text/plain": [
       "<matplotlib.figure.Figure at 0x10e1aac88>"
      ]
     },
     "metadata": {},
     "output_type": "display_data"
    }
   ],
   "source": [
    "df_T.plot(kind='bar', grid=True);"
   ]
  },
  {
   "cell_type": "code",
   "execution_count": 17,
   "metadata": {},
   "outputs": [],
   "source": [
    "modelo_final = linear_model.LinearRegression()\n",
    "modelo_final.fit(X,y);"
   ]
  },
  {
   "cell_type": "code",
   "execution_count": 26,
   "metadata": {},
   "outputs": [
    {
     "data": {
      "text/plain": [
       "array([54.13272136, 88.27095696])"
      ]
     },
     "execution_count": 26,
     "metadata": {},
     "output_type": "execute_result"
    }
   ],
   "source": [
    "modelo_final.predict([[10],[20]])"
   ]
  },
  {
   "cell_type": "code",
   "execution_count": 28,
   "metadata": {},
   "outputs": [],
   "source": [
    "import pickle\n",
    "filename = 'finalized_model.sav'\n",
    "pickle.dump(modelo_final, open(filename, 'wb') )"
   ]
  },
  {
   "cell_type": "code",
   "execution_count": 29,
   "metadata": {},
   "outputs": [],
   "source": [
    "loaded_model = pickle.load(open(filename, 'rb'))"
   ]
  },
  {
   "cell_type": "code",
   "execution_count": 30,
   "metadata": {},
   "outputs": [
    {
     "data": {
      "text/plain": [
       "array([54.13272136, 88.27095696])"
      ]
     },
     "execution_count": 30,
     "metadata": {},
     "output_type": "execute_result"
    }
   ],
   "source": [
    "loaded_model.predict([[10],[20]])"
   ]
  },
  {
   "cell_type": "code",
   "execution_count": null,
   "metadata": {},
   "outputs": [],
   "source": []
  }
 ],
 "metadata": {
  "kernelspec": {
   "display_name": "Python 3",
   "language": "python",
   "name": "python3"
  },
  "language_info": {
   "codemirror_mode": {
    "name": "ipython",
    "version": 3
   },
   "file_extension": ".py",
   "mimetype": "text/x-python",
   "name": "python",
   "nbconvert_exporter": "python",
   "pygments_lexer": "ipython3",
   "version": "3.6.2"
  }
 },
 "nbformat": 4,
 "nbformat_minor": 2
}
