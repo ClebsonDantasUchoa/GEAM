{
 "cells": [
  {
   "cell_type": "markdown",
   "metadata": {},
   "source": [
    "# Seguro de automóveis da Suécia"
   ]
  },
  {
   "cell_type": "markdown",
   "metadata": {},
   "source": [
    "## Definição do Problema"
   ]
  },
  {
   "cell_type": "markdown",
   "metadata": {},
   "source": [
    "O dataset é composto por:\n",
    "X = Número de reivindicações\n",
    "Y = total pago por todas as reivindicações em mil coroas suecas.\n",
    "\n",
    "link do dataset: https://www.kaggle.com/sunmarkil/auto-insurance-in-sweden-small-dataset/data\n",
    "\n",
    "Atributo de predição: y"
   ]
  },
  {
   "cell_type": "markdown",
   "metadata": {},
   "source": [
    "### Importação das bibliotecas"
   ]
  },
  {
   "cell_type": "code",
   "execution_count": 26,
   "metadata": {},
   "outputs": [],
   "source": [
    "%matplotlib inline\n",
    "import pandas as pd\n",
    "import numpy as np\n",
    "from matplotlib import pyplot as plt\n",
    "from sklearn import linear_model\n",
    "from sklearn import metrics\n",
    "from sklearn import ensemble\n",
    "from sklearn import svm\n",
    "from sklearn import tree\n",
    "from sklearn import model_selection "
   ]
  },
  {
   "cell_type": "markdown",
   "metadata": {},
   "source": [
    "### Carregando e definindo as colunas do dataset"
   ]
  },
  {
   "cell_type": "code",
   "execution_count": 2,
   "metadata": {},
   "outputs": [],
   "source": [
    "columns = [\"X\", \"y\"]\n",
    "data = pd.read_csv('dataset.csv',names=columns, sep='\\t')"
   ]
  },
  {
   "cell_type": "markdown",
   "metadata": {},
   "source": [
    "### Visualização e descrição dos dados"
   ]
  },
  {
   "cell_type": "code",
   "execution_count": 3,
   "metadata": {},
   "outputs": [
    {
     "data": {
      "text/html": [
       "<div>\n",
       "<style>\n",
       "    .dataframe thead tr:only-child th {\n",
       "        text-align: right;\n",
       "    }\n",
       "\n",
       "    .dataframe thead th {\n",
       "        text-align: left;\n",
       "    }\n",
       "\n",
       "    .dataframe tbody tr th {\n",
       "        vertical-align: top;\n",
       "    }\n",
       "</style>\n",
       "<table border=\"1\" class=\"dataframe\">\n",
       "  <thead>\n",
       "    <tr style=\"text-align: right;\">\n",
       "      <th></th>\n",
       "      <th>X</th>\n",
       "      <th>y</th>\n",
       "    </tr>\n",
       "  </thead>\n",
       "  <tbody>\n",
       "    <tr>\n",
       "      <th>0</th>\n",
       "      <td>108</td>\n",
       "      <td>392.5</td>\n",
       "    </tr>\n",
       "    <tr>\n",
       "      <th>1</th>\n",
       "      <td>19</td>\n",
       "      <td>46.2</td>\n",
       "    </tr>\n",
       "    <tr>\n",
       "      <th>2</th>\n",
       "      <td>13</td>\n",
       "      <td>15.7</td>\n",
       "    </tr>\n",
       "    <tr>\n",
       "      <th>3</th>\n",
       "      <td>124</td>\n",
       "      <td>422.2</td>\n",
       "    </tr>\n",
       "    <tr>\n",
       "      <th>4</th>\n",
       "      <td>40</td>\n",
       "      <td>119.4</td>\n",
       "    </tr>\n",
       "    <tr>\n",
       "      <th>5</th>\n",
       "      <td>57</td>\n",
       "      <td>170.9</td>\n",
       "    </tr>\n",
       "    <tr>\n",
       "      <th>6</th>\n",
       "      <td>23</td>\n",
       "      <td>56.9</td>\n",
       "    </tr>\n",
       "    <tr>\n",
       "      <th>7</th>\n",
       "      <td>14</td>\n",
       "      <td>77.5</td>\n",
       "    </tr>\n",
       "    <tr>\n",
       "      <th>8</th>\n",
       "      <td>45</td>\n",
       "      <td>214.0</td>\n",
       "    </tr>\n",
       "    <tr>\n",
       "      <th>9</th>\n",
       "      <td>10</td>\n",
       "      <td>65.3</td>\n",
       "    </tr>\n",
       "  </tbody>\n",
       "</table>\n",
       "</div>"
      ],
      "text/plain": [
       "     X      y\n",
       "0  108  392.5\n",
       "1   19   46.2\n",
       "2   13   15.7\n",
       "3  124  422.2\n",
       "4   40  119.4\n",
       "5   57  170.9\n",
       "6   23   56.9\n",
       "7   14   77.5\n",
       "8   45  214.0\n",
       "9   10   65.3"
      ]
     },
     "execution_count": 3,
     "metadata": {},
     "output_type": "execute_result"
    }
   ],
   "source": [
    "data.head(10)"
   ]
  },
  {
   "cell_type": "code",
   "execution_count": 4,
   "metadata": {},
   "outputs": [
    {
     "data": {
      "text/html": [
       "<div>\n",
       "<style>\n",
       "    .dataframe thead tr:only-child th {\n",
       "        text-align: right;\n",
       "    }\n",
       "\n",
       "    .dataframe thead th {\n",
       "        text-align: left;\n",
       "    }\n",
       "\n",
       "    .dataframe tbody tr th {\n",
       "        vertical-align: top;\n",
       "    }\n",
       "</style>\n",
       "<table border=\"1\" class=\"dataframe\">\n",
       "  <thead>\n",
       "    <tr style=\"text-align: right;\">\n",
       "      <th></th>\n",
       "      <th>X</th>\n",
       "      <th>y</th>\n",
       "    </tr>\n",
       "  </thead>\n",
       "  <tbody>\n",
       "    <tr>\n",
       "      <th>count</th>\n",
       "      <td>63.000000</td>\n",
       "      <td>63.000000</td>\n",
       "    </tr>\n",
       "    <tr>\n",
       "      <th>mean</th>\n",
       "      <td>22.904762</td>\n",
       "      <td>98.187302</td>\n",
       "    </tr>\n",
       "    <tr>\n",
       "      <th>std</th>\n",
       "      <td>23.351946</td>\n",
       "      <td>87.327553</td>\n",
       "    </tr>\n",
       "    <tr>\n",
       "      <th>min</th>\n",
       "      <td>0.000000</td>\n",
       "      <td>0.000000</td>\n",
       "    </tr>\n",
       "    <tr>\n",
       "      <th>25%</th>\n",
       "      <td>7.500000</td>\n",
       "      <td>38.850000</td>\n",
       "    </tr>\n",
       "    <tr>\n",
       "      <th>50%</th>\n",
       "      <td>14.000000</td>\n",
       "      <td>73.400000</td>\n",
       "    </tr>\n",
       "    <tr>\n",
       "      <th>75%</th>\n",
       "      <td>29.000000</td>\n",
       "      <td>140.000000</td>\n",
       "    </tr>\n",
       "    <tr>\n",
       "      <th>max</th>\n",
       "      <td>124.000000</td>\n",
       "      <td>422.200000</td>\n",
       "    </tr>\n",
       "  </tbody>\n",
       "</table>\n",
       "</div>"
      ],
      "text/plain": [
       "                X           y\n",
       "count   63.000000   63.000000\n",
       "mean    22.904762   98.187302\n",
       "std     23.351946   87.327553\n",
       "min      0.000000    0.000000\n",
       "25%      7.500000   38.850000\n",
       "50%     14.000000   73.400000\n",
       "75%     29.000000  140.000000\n",
       "max    124.000000  422.200000"
      ]
     },
     "execution_count": 4,
     "metadata": {},
     "output_type": "execute_result"
    }
   ],
   "source": [
    "data.describe()"
   ]
  },
  {
   "cell_type": "code",
   "execution_count": 5,
   "metadata": {},
   "outputs": [
    {
     "name": "stdout",
     "output_type": "stream",
     "text": [
      "(63, 2)\n"
     ]
    }
   ],
   "source": [
    "print(data.shape)"
   ]
  },
  {
   "cell_type": "code",
   "execution_count": 6,
   "metadata": {},
   "outputs": [
    {
     "data": {
      "image/png": "[encoded data removed]",
      "text/plain": [
       "<matplotlib.figure.Figure at 0x10d4d1550>"
      ]
     },
     "metadata": {},
     "output_type": "display_data"
    }
   ],
   "source": [
    "plt.scatter(data.values[:,0],data.values[:,1]);"
   ]
  },
  {
   "cell_type": "code",
   "execution_count": 7,
   "metadata": {},
   "outputs": [
    {
     "data": {
      "text/html": [
       "<div>\n",
       "<style>\n",
       "    .dataframe thead tr:only-child th {\n",
       "        text-align: right;\n",
       "    }\n",
       "\n",
       "    .dataframe thead th {\n",
       "        text-align: left;\n",
       "    }\n",
       "\n",
       "    .dataframe tbody tr th {\n",
       "        vertical-align: top;\n",
       "    }\n",
       "</style>\n",
       "<table border=\"1\" class=\"dataframe\">\n",
       "  <thead>\n",
       "    <tr style=\"text-align: right;\">\n",
       "      <th></th>\n",
       "      <th>X</th>\n",
       "      <th>y</th>\n",
       "    </tr>\n",
       "  </thead>\n",
       "  <tbody>\n",
       "    <tr>\n",
       "      <th>X</th>\n",
       "      <td>1.000000</td>\n",
       "      <td>0.912878</td>\n",
       "    </tr>\n",
       "    <tr>\n",
       "      <th>y</th>\n",
       "      <td>0.912878</td>\n",
       "      <td>1.000000</td>\n",
       "    </tr>\n",
       "  </tbody>\n",
       "</table>\n",
       "</div>"
      ],
      "text/plain": [
       "          X         y\n",
       "X  1.000000  0.912878\n",
       "y  0.912878  1.000000"
      ]
     },
     "execution_count": 7,
     "metadata": {},
     "output_type": "execute_result"
    }
   ],
   "source": [
    "data.corr()"
   ]
  },
  {
   "cell_type": "markdown",
   "metadata": {},
   "source": [
    "### Criação do dataset de validação "
   ]
  },
  {
   "cell_type": "code",
   "execution_count": 8,
   "metadata": {},
   "outputs": [
    {
     "name": "stdout",
     "output_type": "stream",
     "text": [
      "[[ 108.   392.5]\n",
      " [  19.    46.2]\n",
      " [  13.    15.7]\n",
      " [ 124.   422.2]\n",
      " [  40.   119.4]\n",
      " [  57.   170.9]\n",
      " [  23.    56.9]\n",
      " [  14.    77.5]\n",
      " [  45.   214. ]\n",
      " [  10.    65.3]\n",
      " [   5.    20.9]\n",
      " [  48.   248.1]\n",
      " [  11.    23.5]\n",
      " [  23.    39.6]\n",
      " [   7.    48.8]\n",
      " [   2.     6.6]\n",
      " [  24.   134.9]\n",
      " [   6.    50.9]\n",
      " [   3.     4.4]\n",
      " [  23.   113. ]\n",
      " [   6.    14.8]\n",
      " [   9.    48.7]\n",
      " [   9.    52.1]\n",
      " [   3.    13.2]\n",
      " [  29.   103.9]\n",
      " [   7.    77.5]\n",
      " [   4.    11.8]\n",
      " [  20.    98.1]\n",
      " [   7.    27.9]\n",
      " [   4.    38.1]\n",
      " [   0.     0. ]\n",
      " [  25.    69.2]\n",
      " [   6.    14.6]\n",
      " [   5.    40.3]\n",
      " [  22.   161.5]\n",
      " [  11.    57.2]\n",
      " [  61.   217.6]\n",
      " [  12.    58.1]\n",
      " [   4.    12.6]\n",
      " [  16.    59.6]\n",
      " [  13.    89.9]\n",
      " [  60.   202.4]\n",
      " [  41.   181.3]\n",
      " [  37.   152.8]\n",
      " [  55.   162.8]\n",
      " [  41.    73.4]\n",
      " [  11.    21.3]\n",
      " [  27.    92.6]\n",
      " [   8.    76.1]\n",
      " [   3.    39.9]\n",
      " [  17.   142.1]\n",
      " [  13.    93. ]\n",
      " [  13.    31.9]\n",
      " [  15.    32.1]\n",
      " [   8.    55.6]\n",
      " [  29.   133.3]\n",
      " [  30.   194.5]\n",
      " [  24.   137.9]\n",
      " [   9.    87.4]\n",
      " [  31.   209.8]\n",
      " [  14.    95.5]\n",
      " [  53.   244.6]\n",
      " [  26.   187.5]]\n"
     ]
    }
   ],
   "source": [
    "dataset = data.values\n",
    "print(dataset)"
   ]
  },
  {
   "cell_type": "code",
   "execution_count": 9,
   "metadata": {},
   "outputs": [
    {
     "data": {
      "text/plain": [
       "array([[  29. ,  103.9],\n",
       "       [  16. ,   59.6],\n",
       "       [  13. ,   93. ],\n",
       "       [  20. ,   98.1],\n",
       "       [  53. ,  244.6],\n",
       "       [  13. ,   15.7],\n",
       "       [   9. ,   48.7],\n",
       "       [  41. ,  181.3],\n",
       "       [  60. ,  202.4],\n",
       "       [  55. ,  162.8],\n",
       "       [   4. ,   12.6],\n",
       "       [  15. ,   32.1],\n",
       "       [  11. ,   57.2],\n",
       "       [   4. ,   11.8],\n",
       "       [  30. ,  194.5],\n",
       "       [   8. ,   76.1],\n",
       "       [ 124. ,  422.2],\n",
       "       [  13. ,   89.9],\n",
       "       [  61. ,  217.6],\n",
       "       [   5. ,   20.9],\n",
       "       [  29. ,  133.3],\n",
       "       [  23. ,  113. ],\n",
       "       [  22. ,  161.5],\n",
       "       [  31. ,  209.8],\n",
       "       [   6. ,   50.9],\n",
       "       [   8. ,   55.6],\n",
       "       [  13. ,   31.9],\n",
       "       [  27. ,   92.6],\n",
       "       [   5. ,   40.3],\n",
       "       [  17. ,  142.1],\n",
       "       [  25. ,   69.2],\n",
       "       [   9. ,   87.4],\n",
       "       [  23. ,   39.6],\n",
       "       [   9. ,   52.1],\n",
       "       [   6. ,   14.6],\n",
       "       [   0. ,    0. ],\n",
       "       [   3. ,   39.9],\n",
       "       [   3. ,   13.2],\n",
       "       [  40. ,  119.4],\n",
       "       [   7. ,   48.8],\n",
       "       [   4. ,   38.1],\n",
       "       [   7. ,   27.9],\n",
       "       [  24. ,  137.9],\n",
       "       [  11. ,   21.3],\n",
       "       [   3. ,    4.4],\n",
       "       [  26. ,  187.5],\n",
       "       [   6. ,   14.8],\n",
       "       [   7. ,   77.5],\n",
       "       [  23. ,   56.9],\n",
       "       [  41. ,   73.4],\n",
       "       [  14. ,   77.5],\n",
       "       [  14. ,   95.5],\n",
       "       [  19. ,   46.2],\n",
       "       [  24. ,  134.9],\n",
       "       [ 108. ,  392.5],\n",
       "       [   2. ,    6.6],\n",
       "       [  57. ,  170.9],\n",
       "       [  48. ,  248.1],\n",
       "       [  10. ,   65.3],\n",
       "       [  45. ,  214. ],\n",
       "       [  11. ,   23.5],\n",
       "       [  37. ,  152.8],\n",
       "       [  12. ,   58.1]])"
      ]
     },
     "execution_count": 9,
     "metadata": {},
     "output_type": "execute_result"
    }
   ],
   "source": [
    "np.random.seed(1)\n",
    "np.random.shuffle(dataset)\n",
    "dataset"
   ]
  },
  {
   "cell_type": "code",
   "execution_count": 10,
   "metadata": {},
   "outputs": [
    {
     "data": {
      "text/plain": [
       "(63,)"
      ]
     },
     "execution_count": 10,
     "metadata": {},
     "output_type": "execute_result"
    }
   ],
   "source": [
    "X = dataset[:,0]\n",
    "X.shape"
   ]
  },
  {
   "cell_type": "code",
   "execution_count": 11,
   "metadata": {},
   "outputs": [],
   "source": [
    "X = X.reshape((X.shape[0], 1))\n",
    "y = dataset[:,1]"
   ]
  },
  {
   "cell_type": "code",
   "execution_count": 12,
   "metadata": {},
   "outputs": [
    {
     "data": {
      "text/plain": [
       "((63, 1), (63,))"
      ]
     },
     "execution_count": 12,
     "metadata": {},
     "output_type": "execute_result"
    }
   ],
   "source": [
    "X.shape, y.shape"
   ]
  },
  {
   "cell_type": "code",
   "execution_count": 20,
   "metadata": {},
   "outputs": [],
   "source": [
    "n_train = int(round(len(y) * 0.67))\n",
    "X_train = X[:n_train,:]\n",
    "y_train = y[:n_train]\n",
    "\n",
    "X_test = X[n_train:,:]\n",
    "y_test = y[n_train:]\n"
   ]
  },
  {
   "cell_type": "code",
   "execution_count": 21,
   "metadata": {},
   "outputs": [
    {
     "data": {
      "text/plain": [
       "((63, 1), (63,), (42, 1), (42,), (21, 1), (21,))"
      ]
     },
     "execution_count": 21,
     "metadata": {},
     "output_type": "execute_result"
    }
   ],
   "source": [
    "X.shape, y.shape, X_train.shape, y_train.shape, X_test.shape, y_test.shape"
   ]
  },
  {
   "cell_type": "code",
   "execution_count": 19,
   "metadata": {},
   "outputs": [
    {
     "data": {
      "text/plain": [
       "((63, 1), (63,), (42, 1), (42,), (21, 1), (21,))"
      ]
     },
     "execution_count": 19,
     "metadata": {},
     "output_type": "execute_result"
    }
   ],
   "source": [
    "# fazer o split usando a API do scikit. comparar com o que foi feito acima.\n",
    "X_train, X_test, y_train, y_test = model_selection.train_test_split(X, y, test_size=0.33, random_state=42)\n",
    "X.shape, y.shape, X_train.shape, y_train.shape, X_test.shape, y_test.shape"
   ]
  },
  {
   "cell_type": "markdown",
   "metadata": {},
   "source": [
    "### Criação dos modelos"
   ]
  },
  {
   "cell_type": "markdown",
   "metadata": {},
   "source": [
    "#### Classificadores utilizados:\n",
    "\n",
    "- Linear Regression\n",
    "- Linear SVR\n",
    "- SVR - Epsilon-Support Vector Regression\n",
    "- Random Forest Regressor\n",
    "- Gradient Boosting Regressor\n",
    "- Extra Tree Regressor"
   ]
  },
  {
   "cell_type": "code",
   "execution_count": 31,
   "metadata": {},
   "outputs": [],
   "source": [
    "resultados = {}\n",
    "resultados['LR'] = { 'model': linear_model.LinearRegression() }\n",
    "resultados['LSVR'] = { 'model': svm.LinearSVR() }\n",
    "resultados['SVR'] = { 'model': svm.SVR() }\n",
    "resultados['RFR'] = { 'model': ensemble.RandomForestRegressor() }\n",
    "resultados['GBR'] = {'model': ensemble.GradientBoostingRegressor()}\n",
    "resultados['ETR'] = {'model': tree.ExtraTreeRegressor()}"
   ]
  },
  {
   "cell_type": "code",
   "execution_count": 32,
   "metadata": {},
   "outputs": [
    {
     "name": "stdout",
     "output_type": "stream",
     "text": [
      "processando LR...\n",
      "processando LSVR...\n",
      "processando SVR...\n",
      "processando RFR...\n",
      "processando GBR...\n",
      "processando ETR...\n"
     ]
    }
   ],
   "source": [
    "for key in resultados:\n",
    "    print('processando {}...'.format(key))\n",
    "    resultados[key]['model'].fit(X_train, y_train)\n",
    "    resultados[key]['y_pred'] = resultados[key]['model'].predict(X_test)\n",
    "    resultados[key]['mse'] = metrics.mean_squared_error(y_test, resultados[key]['y_pred'])\n",
    "    resultados[key]['rmse'] = np.sqrt(resultados[key]['mse'])\n",
    "    resultados[key]['mae'] = metrics.mean_absolute_error(y_test, resultados[key]['y_pred'])"
   ]
  },
  {
   "cell_type": "code",
   "execution_count": 33,
   "metadata": {},
   "outputs": [
    {
     "data": {
      "text/html": [
       "<div>\n",
       "<style>\n",
       "    .dataframe thead tr:only-child th {\n",
       "        text-align: right;\n",
       "    }\n",
       "\n",
       "    .dataframe thead th {\n",
       "        text-align: left;\n",
       "    }\n",
       "\n",
       "    .dataframe tbody tr th {\n",
       "        vertical-align: top;\n",
       "    }\n",
       "</style>\n",
       "<table border=\"1\" class=\"dataframe\">\n",
       "  <thead>\n",
       "    <tr style=\"text-align: right;\">\n",
       "      <th></th>\n",
       "      <th>y_pred</th>\n",
       "      <th>mse</th>\n",
       "      <th>rmse</th>\n",
       "      <th>mae</th>\n",
       "    </tr>\n",
       "  </thead>\n",
       "  <tbody>\n",
       "    <tr>\n",
       "      <th>ETR</th>\n",
       "      <td>[76.3, 57.2, 26.55, 69.2, 32.75, 38.35, 76.3, ...</td>\n",
       "      <td>2611.68</td>\n",
       "      <td>51.1046</td>\n",
       "      <td>41.6464</td>\n",
       "    </tr>\n",
       "    <tr>\n",
       "      <th>GBR</th>\n",
       "      <td>[76.0758585633, 57.3943340504, 26.1511638199, ...</td>\n",
       "      <td>2169.23</td>\n",
       "      <td>46.5749</td>\n",
       "      <td>35.7931</td>\n",
       "    </tr>\n",
       "    <tr>\n",
       "      <th>LR</th>\n",
       "      <td>[101.995660087, 58.5467777742, 31.8090040433, ...</td>\n",
       "      <td>1602.15</td>\n",
       "      <td>40.0269</td>\n",
       "      <td>33.8455</td>\n",
       "    </tr>\n",
       "    <tr>\n",
       "      <th>LSVR</th>\n",
       "      <td>[86.8444086974, 42.4998713106, 15.2109252265, ...</td>\n",
       "      <td>1801.27</td>\n",
       "      <td>42.4414</td>\n",
       "      <td>35.2423</td>\n",
       "    </tr>\n",
       "    <tr>\n",
       "      <th>RFR</th>\n",
       "      <td>[77.5233333333, 57.7508333333, 27.1801666667, ...</td>\n",
       "      <td>2169.76</td>\n",
       "      <td>46.5807</td>\n",
       "      <td>36.6121</td>\n",
       "    </tr>\n",
       "    <tr>\n",
       "      <th>SVR</th>\n",
       "      <td>[64.777098909, 63.3724643301, 61.2501402508, 6...</td>\n",
       "      <td>10575</td>\n",
       "      <td>102.835</td>\n",
       "      <td>69.8258</td>\n",
       "    </tr>\n",
       "  </tbody>\n",
       "</table>\n",
       "</div>"
      ],
      "text/plain": [
       "                                                 y_pred      mse     rmse  \\\n",
       "ETR   [76.3, 57.2, 26.55, 69.2, 32.75, 38.35, 76.3, ...  2611.68  51.1046   \n",
       "GBR   [76.0758585633, 57.3943340504, 26.1511638199, ...  2169.23  46.5749   \n",
       "LR    [101.995660087, 58.5467777742, 31.8090040433, ...  1602.15  40.0269   \n",
       "LSVR  [86.8444086974, 42.4998713106, 15.2109252265, ...  1801.27  42.4414   \n",
       "RFR   [77.5233333333, 57.7508333333, 27.1801666667, ...  2169.76  46.5807   \n",
       "SVR   [64.777098909, 63.3724643301, 61.2501402508, 6...    10575  102.835   \n",
       "\n",
       "          mae  \n",
       "ETR   41.6464  \n",
       "GBR   35.7931  \n",
       "LR    33.8455  \n",
       "LSVR  35.2423  \n",
       "RFR   36.6121  \n",
       "SVR   69.8258  "
      ]
     },
     "execution_count": 33,
     "metadata": {},
     "output_type": "execute_result"
    }
   ],
   "source": [
    "df = pd.DataFrame(resultados)\n",
    "df.T[['y_pred','mse','rmse','mae']]"
   ]
  },
  {
   "cell_type": "code",
   "execution_count": 34,
   "metadata": {},
   "outputs": [
    {
     "data": {
      "text/html": [
       "<div>\n",
       "<style>\n",
       "    .dataframe thead tr:only-child th {\n",
       "        text-align: right;\n",
       "    }\n",
       "\n",
       "    .dataframe thead th {\n",
       "        text-align: left;\n",
       "    }\n",
       "\n",
       "    .dataframe tbody tr th {\n",
       "        vertical-align: top;\n",
       "    }\n",
       "</style>\n",
       "<table border=\"1\" class=\"dataframe\">\n",
       "  <thead>\n",
       "    <tr style=\"text-align: right;\">\n",
       "      <th></th>\n",
       "      <th>mse</th>\n",
       "    </tr>\n",
       "  </thead>\n",
       "  <tbody>\n",
       "    <tr>\n",
       "      <th>ETR</th>\n",
       "      <td>2611.68</td>\n",
       "    </tr>\n",
       "    <tr>\n",
       "      <th>GBR</th>\n",
       "      <td>2169.23</td>\n",
       "    </tr>\n",
       "    <tr>\n",
       "      <th>LR</th>\n",
       "      <td>1602.15</td>\n",
       "    </tr>\n",
       "    <tr>\n",
       "      <th>LSVR</th>\n",
       "      <td>1801.27</td>\n",
       "    </tr>\n",
       "    <tr>\n",
       "      <th>RFR</th>\n",
       "      <td>2169.76</td>\n",
       "    </tr>\n",
       "    <tr>\n",
       "      <th>SVR</th>\n",
       "      <td>10575</td>\n",
       "    </tr>\n",
       "  </tbody>\n",
       "</table>\n",
       "</div>"
      ],
      "text/plain": [
       "          mse\n",
       "ETR   2611.68\n",
       "GBR   2169.23\n",
       "LR    1602.15\n",
       "LSVR  1801.27\n",
       "RFR   2169.76\n",
       "SVR     10575"
      ]
     },
     "execution_count": 34,
     "metadata": {},
     "output_type": "execute_result"
    }
   ],
   "source": [
    "df_T = df.transpose()\n",
    "df_T = df_T[ ['mse'] ]\n",
    "df_T"
   ]
  },
  {
   "cell_type": "code",
   "execution_count": 35,
   "metadata": {},
   "outputs": [
    {
     "data": {
      "image/png": "[encoded data removed]",
      "text/plain": [
       "<matplotlib.figure.Figure at 0x10df84438>"
      ]
     },
     "metadata": {},
     "output_type": "display_data"
    }
   ],
   "source": [
    "df_T.plot(kind='bar', grid=True);"
   ]
  },
  {
   "cell_type": "code",
   "execution_count": 37,
   "metadata": {},
   "outputs": [],
   "source": [
    "modelo_final = linear_model.LinearRegression()\n",
    "modelo_final.fit(X,y);"
   ]
  },
  {
   "cell_type": "code",
   "execution_count": null,
   "metadata": {},
   "outputs": [],
   "source": []
  }
 ],
 "metadata": {
  "kernelspec": {
   "display_name": "Python 3",
   "language": "python",
   "name": "python3"
  },
  "language_info": {
   "codemirror_mode": {
    "name": "ipython",
    "version": 3
   },
   "file_extension": ".py",
   "mimetype": "text/x-python",
   "name": "python",
   "nbconvert_exporter": "python",
   "pygments_lexer": "ipython3",
   "version": "3.6.2"
  }
 },
 "nbformat": 4,
 "nbformat_minor": 2
}
